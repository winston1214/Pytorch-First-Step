{
  "nbformat": 4,
  "nbformat_minor": 0,
  "metadata": {
    "colab": {
      "name": "GoogleNet.ipynb",
      "provenance": []
    },
    "kernelspec": {
      "name": "python3",
      "display_name": "Python 3"
    },
    "accelerator": "GPU"
  },
  "cells": [
    {
      "cell_type": "markdown",
      "metadata": {
        "id": "QWPxIlJWrZj8",
        "colab_type": "text"
      },
      "source": [
        "# GoogleNet"
      ]
    },
    {
      "cell_type": "markdown",
      "metadata": {
        "id": "Y9wEYJUPrWqp",
        "colab_type": "text"
      },
      "source": [
        "![대체 텍스트](https://cdn-images-1.medium.com/max/2560/1*ZFPOSAted10TPd3hBQU8iQ.png)"
      ]
    },
    {
      "cell_type": "code",
      "metadata": {
        "id": "jd5C7k2zqXW2",
        "colab_type": "code",
        "colab": {
          "base_uri": "https://localhost:8080/",
          "height": 829
        },
        "outputId": "c96d2325-4c31-470a-a555-3dab00e2dc4d"
      },
      "source": [
        "!rm -r images\n",
        "import os \n",
        "\n",
        "try:\n",
        "  os.mkdir(\"images\")\n",
        "  os.mkdir(\"images/dogs\")\n",
        "  os.mkdir(\"images/cats\")\n",
        "except:\n",
        "  pass\n",
        "\n",
        "!wget https://i.kinja-img.com/gawker-media/image/upload/s--WFkXeene--/c_scale,f_auto,fl_progressive,q_80,w_800/ol9ceoqxidudap8owlwn.jpg -P images/dogs\n",
        "!wget https://www.rspcansw.org.au/wp-content/uploads/2017/08/50_a-feature_dogs-and-puppies_mobile.jpg -P images/dogs\n",
        "  \n",
        "!wget https://www.catster.com/wp-content/uploads/2018/05/A-gray-cat-crying-looking-upset.jpg -P images/cats\n",
        "!wget https://www.scarymommy.com/wp-content/uploads/2018/01/c1.jpg?w=700 -P images/cats"
      ],
      "execution_count": 2,
      "outputs": [
        {
          "output_type": "stream",
          "text": [
            "rm: cannot remove 'images': No such file or directory\n",
            "--2020-08-27 07:34:56--  https://i.kinja-img.com/gawker-media/image/upload/s--WFkXeene--/c_scale,f_auto,fl_progressive,q_80,w_800/ol9ceoqxidudap8owlwn.jpg\n",
            "Resolving i.kinja-img.com (i.kinja-img.com)... 151.101.194.166, 151.101.2.166, 151.101.66.166, ...\n",
            "Connecting to i.kinja-img.com (i.kinja-img.com)|151.101.194.166|:443... connected.\n",
            "HTTP request sent, awaiting response... 200 OK\n",
            "Length: 32099 (31K) [image/jpeg]\n",
            "Saving to: ‘images/dogs/ol9ceoqxidudap8owlwn.jpg’\n",
            "\n",
            "ol9ceoqxidudap8owlw 100%[===================>]  31.35K  --.-KB/s    in 0.009s  \n",
            "\n",
            "2020-08-27 07:34:56 (3.52 MB/s) - ‘images/dogs/ol9ceoqxidudap8owlwn.jpg’ saved [32099/32099]\n",
            "\n",
            "--2020-08-27 07:34:56--  https://www.rspcansw.org.au/wp-content/uploads/2017/08/50_a-feature_dogs-and-puppies_mobile.jpg\n",
            "Resolving www.rspcansw.org.au (www.rspcansw.org.au)... 101.0.86.38\n",
            "Connecting to www.rspcansw.org.au (www.rspcansw.org.au)|101.0.86.38|:443... connected.\n",
            "HTTP request sent, awaiting response... 200 OK\n",
            "Length: 130940 (128K) [image/jpeg]\n",
            "Saving to: ‘images/dogs/50_a-feature_dogs-and-puppies_mobile.jpg’\n",
            "\n",
            "50_a-feature_dogs-a 100%[===================>] 127.87K   262KB/s    in 0.5s    \n",
            "\n",
            "2020-08-27 07:34:58 (262 KB/s) - ‘images/dogs/50_a-feature_dogs-and-puppies_mobile.jpg’ saved [130940/130940]\n",
            "\n",
            "--2020-08-27 07:34:58--  https://www.catster.com/wp-content/uploads/2018/05/A-gray-cat-crying-looking-upset.jpg\n",
            "Resolving www.catster.com (www.catster.com)... 192.124.249.102\n",
            "Connecting to www.catster.com (www.catster.com)|192.124.249.102|:443... connected.\n",
            "HTTP request sent, awaiting response... 200 OK\n",
            "Length: 165145 (161K) [image/jpeg]\n",
            "Saving to: ‘images/cats/A-gray-cat-crying-looking-upset.jpg’\n",
            "\n",
            "A-gray-cat-crying-l 100%[===================>] 161.27K  --.-KB/s    in 0.07s   \n",
            "\n",
            "2020-08-27 07:34:58 (2.14 MB/s) - ‘images/cats/A-gray-cat-crying-looking-upset.jpg’ saved [165145/165145]\n",
            "\n",
            "--2020-08-27 07:34:58--  https://www.scarymommy.com/wp-content/uploads/2018/01/c1.jpg?w=700\n",
            "Resolving www.scarymommy.com (www.scarymommy.com)... 104.18.167.96, 104.18.168.96, 104.18.164.96, ...\n",
            "Connecting to www.scarymommy.com (www.scarymommy.com)|104.18.167.96|:443... connected.\n",
            "HTTP request sent, awaiting response... 200 OK\n",
            "Length: 2169547 (2.1M) [image/jpeg]\n",
            "Saving to: ‘images/cats/c1.jpg?w=700’\n",
            "\n",
            "c1.jpg?w=700        100%[===================>]   2.07M  --.-KB/s    in 0.05s   \n",
            "\n",
            "2020-08-27 07:34:58 (45.7 MB/s) - ‘images/cats/c1.jpg?w=700’ saved [2169547/2169547]\n",
            "\n"
          ],
          "name": "stdout"
        }
      ]
    },
    {
      "cell_type": "code",
      "metadata": {
        "id": "5B3Kn-yBqgEP",
        "colab_type": "code",
        "colab": {}
      },
      "source": [
        "import numpy as np\n",
        "import torch\n",
        "import torch.nn as nn\n",
        "import torch.optim as optim\n",
        "import torch.nn.init as init\n",
        "import torch.utils.data as data\n",
        "import torchvision.datasets as dset\n",
        "import torchvision.transforms as transforms"
      ],
      "execution_count": 3,
      "outputs": []
    },
    {
      "cell_type": "code",
      "metadata": {
        "id": "CbA181nvri1P",
        "colab_type": "code",
        "colab": {}
      },
      "source": [
        "batch_size= 1\n",
        "learning_rate = 0.0002\n",
        "num_epoch = 100"
      ],
      "execution_count": 4,
      "outputs": []
    },
    {
      "cell_type": "code",
      "metadata": {
        "id": "_ATHXzDqrmlR",
        "colab_type": "code",
        "colab": {}
      },
      "source": [
        "img_dir = \"./images\"\n",
        "img_data = dset.ImageFolder(img_dir, transforms.Compose([\n",
        "                                      transforms.Resize(256),                   \n",
        "                                      transforms.RandomResizedCrop(224),        \n",
        "                                      transforms.RandomHorizontalFlip(),        \n",
        "                                      transforms.ToTensor(),                    \n",
        "            ]))\n",
        "\n",
        "\n",
        "train_loader = data.DataLoader(img_data, batch_size=batch_size,\n",
        "                            shuffle=True, num_workers=2)"
      ],
      "execution_count": 5,
      "outputs": []
    },
    {
      "cell_type": "code",
      "metadata": {
        "id": "cwJwDhccro6G",
        "colab_type": "code",
        "colab": {}
      },
      "source": [
        "def conv_1(in_dim,out_dim): # 1*1 convolution\n",
        "  model = nn.Sequential(\n",
        "      nn.Conv2d(in_dim,out_dim,1,1),\n",
        "      nn.ReLU()\n",
        "  )\n",
        "  return model\n",
        "def conv_1_3(in_dim,mid_dim,out_dim): # 1*1 -> 3*3 convolution\n",
        "  model = nn.Sequential(\n",
        "      nn.Conv2d(in_dim,mid_dim,1,1),\n",
        "      nn.ReLU(),\n",
        "      nn.Conv2d(mid_dim,out_dim,3,1,1),\n",
        "      nn.ReLU()\n",
        "  )\n",
        "  return model\n",
        "def conv_1_5(in_dim,mid_dim,out_dim): # 1*1 -> 5*5 convolution\n",
        "  model = nn.Sequential(\n",
        "      nn.Conv2d(in_dim,mid_dim,1,1),\n",
        "      nn.ReLU(),\n",
        "      nn.Conv2d(mid_dim,out_dim,5,1,2),\n",
        "      nn.ReLU()\n",
        "  )\n",
        "  return model\n",
        "\n",
        "def max_3_1(in_dim,out_dim): # 3*3 maxpooling -> 1*1 convolution\n",
        "  model = nn.Sequential(\n",
        "      nn.MaxPool2d(3,1,1),\n",
        "      nn.Conv2d(in_dim,out_dim,1,1),\n",
        "      nn.ReLU()\n",
        "  )\n",
        "  return model"
      ],
      "execution_count": 6,
      "outputs": []
    },
    {
      "cell_type": "code",
      "metadata": {
        "id": "2sOG39ebtEMq",
        "colab_type": "code",
        "colab": {}
      },
      "source": [
        "# inception module\n",
        "class inception_module(nn.Module):\n",
        "  def __init__(self,in_dim,out_dim_1,mid_dim_3,out_dim_3,mid_dim_5,out_dim_5,pool):\n",
        "    super(inception_module,self).__init__()\n",
        "    self.conv_1 = conv_1(in_dim,out_dim_1)\n",
        "    self.conv_1_3 = conv_1_3(in_dim,mid_dim_3,out_dim_3)\n",
        "    self.conv_1_5 = conv_1_5(in_dim,mid_dim_5,out_dim_5)\n",
        "    self.max_3_1 = max_3_1(in_dim,pool)\n",
        "\n",
        "  def forward(self,x):\n",
        "    out_1 = self.conv_1(x)\n",
        "    out_2 = self.conv_1_3(x)\n",
        "    out_3 = self.conv_1_5(x)\n",
        "    out_4 = self.max_3_1(x)\n",
        "    output = torch.cat([out_1,out_2,out_3,out_4],1)\n",
        "    return output"
      ],
      "execution_count": 7,
      "outputs": []
    },
    {
      "cell_type": "markdown",
      "metadata": {
        "id": "fKyIe9IOvRlO",
        "colab_type": "text"
      },
      "source": [
        "![대체 텍스트](https://cdn-images-1.medium.com/max/1600/1*CWJGqfLiVjHAIan82nPbjg.png)"
      ]
    },
    {
      "cell_type": "code",
      "metadata": {
        "id": "gcb8Ub0tvSOf",
        "colab_type": "code",
        "colab": {}
      },
      "source": [
        "class GoogleNet(nn.Module):\n",
        "  def __init__(self,base_dim,num_classes = 2):\n",
        "    super(GoogleNet,self).__init__() # 자기 상속\n",
        "    self.num_classes = num_classes\n",
        "    self.layer_1 = nn.Sequential(\n",
        "        nn.Conv2d(3,base_dim,7,2,3),\n",
        "        nn.MaxPool2d(3,2,1),\n",
        "        nn.Conv2d(base_dim,base_dim*3,3,1,1),\n",
        "        nn.MaxPool2d(3,2,1)\n",
        "    )\n",
        "    self.layer_2 = nn.Sequential(\n",
        "        inception_module(base_dim*3,64,96,128,16,32,32), # 표의 inception(3a)\n",
        "        inception_module(base_dim*4,128,128,192,32,96,64), # inception(3b)\n",
        "        nn.MaxPool2d(3,2,1)\n",
        "    )\n",
        "    self.layer_3 = nn.Sequential(\n",
        "        inception_module(480,192,96,208,16,48,64), # inception(4a)\n",
        "        inception_module(512,160,112,224,24,64,64), # inception(4b)\n",
        "        inception_module(512,128,128,256,24,64,64), # inception(4c)\n",
        "        inception_module(512,112,144,288,32,64,64), # inception(4d)\n",
        "        inception_module(528,256,160,320,32,128,128), # inception(4e)\n",
        "        nn.MaxPool2d(3,2,1)\n",
        "    )\n",
        "    self.layer_4 = nn.Sequential(\n",
        "        inception_module(832,256,160,320,32,128,128), # inception(5a)\n",
        "        inception_module(832,384,192,384,48,128,128), # inception(5b)\n",
        "        nn.AvgPool2d(7,1) # average pooling\n",
        "    )\n",
        "    self.layer_5 = nn.Dropout2d(0.4)\n",
        "    self.fc_layer = nn.Linear(1024,self.num_classes)\n",
        "\n",
        "  def forward(self,x):\n",
        "    out = self.layer_1(x)\n",
        "    out = self.layer_2(out)\n",
        "    out = self.layer_3(out)\n",
        "    out = self.layer_4(out)\n",
        "    out = self.layer_5(out)\n",
        "    out = out.view(batch_size,-1)\n",
        "    out = self.fc_layer(out)\n",
        "    return out"
      ],
      "execution_count": 12,
      "outputs": []
    },
    {
      "cell_type": "code",
      "metadata": {
        "id": "NP7efnuZ1lof",
        "colab_type": "code",
        "colab": {
          "base_uri": "https://localhost:8080/",
          "height": 34
        },
        "outputId": "482a8fde-ba26-4602-e542-9866523bd9e2"
      },
      "source": [
        "device = torch.device(\"cuda:0\" if torch.cuda.is_available() else \"cpu\")\n",
        "print(device)"
      ],
      "execution_count": 13,
      "outputs": [
        {
          "output_type": "stream",
          "text": [
            "cuda:0\n"
          ],
          "name": "stdout"
        }
      ]
    },
    {
      "cell_type": "code",
      "metadata": {
        "id": "NwORKzxi1uUs",
        "colab_type": "code",
        "colab": {
          "base_uri": "https://localhost:8080/",
          "height": 1000
        },
        "outputId": "f05fd11b-3703-474e-ecd9-75298e6d810c"
      },
      "source": [
        "model = GoogleNet(base_dim = 64)\n",
        "for i in model.named_children():\n",
        "  print(i)\n",
        "\n",
        "model = GoogleNet(base_dim = 64).to(device)\n",
        "loss_func = nn.CrossEntropyLoss()\n",
        "optimizer = optim.Adam(model.parameters(),lr = learning_rate)"
      ],
      "execution_count": 14,
      "outputs": [
        {
          "output_type": "stream",
          "text": [
            "('layer_1', Sequential(\n",
            "  (0): Conv2d(3, 64, kernel_size=(7, 7), stride=(2, 2), padding=(3, 3))\n",
            "  (1): MaxPool2d(kernel_size=3, stride=2, padding=1, dilation=1, ceil_mode=False)\n",
            "  (2): Conv2d(64, 192, kernel_size=(3, 3), stride=(1, 1), padding=(1, 1))\n",
            "  (3): MaxPool2d(kernel_size=3, stride=2, padding=1, dilation=1, ceil_mode=False)\n",
            "))\n",
            "('layer_2', Sequential(\n",
            "  (0): inception_module(\n",
            "    (conv_1): Sequential(\n",
            "      (0): Conv2d(192, 64, kernel_size=(1, 1), stride=(1, 1))\n",
            "      (1): ReLU()\n",
            "    )\n",
            "    (conv_1_3): Sequential(\n",
            "      (0): Conv2d(192, 96, kernel_size=(1, 1), stride=(1, 1))\n",
            "      (1): ReLU()\n",
            "      (2): Conv2d(96, 128, kernel_size=(3, 3), stride=(1, 1), padding=(1, 1))\n",
            "      (3): ReLU()\n",
            "    )\n",
            "    (conv_1_5): Sequential(\n",
            "      (0): Conv2d(192, 16, kernel_size=(1, 1), stride=(1, 1))\n",
            "      (1): ReLU()\n",
            "      (2): Conv2d(16, 32, kernel_size=(5, 5), stride=(1, 1), padding=(2, 2))\n",
            "      (3): ReLU()\n",
            "    )\n",
            "    (max_3_1): Sequential(\n",
            "      (0): MaxPool2d(kernel_size=3, stride=1, padding=1, dilation=1, ceil_mode=False)\n",
            "      (1): Conv2d(192, 32, kernel_size=(1, 1), stride=(1, 1))\n",
            "      (2): ReLU()\n",
            "    )\n",
            "  )\n",
            "  (1): inception_module(\n",
            "    (conv_1): Sequential(\n",
            "      (0): Conv2d(256, 128, kernel_size=(1, 1), stride=(1, 1))\n",
            "      (1): ReLU()\n",
            "    )\n",
            "    (conv_1_3): Sequential(\n",
            "      (0): Conv2d(256, 128, kernel_size=(1, 1), stride=(1, 1))\n",
            "      (1): ReLU()\n",
            "      (2): Conv2d(128, 192, kernel_size=(3, 3), stride=(1, 1), padding=(1, 1))\n",
            "      (3): ReLU()\n",
            "    )\n",
            "    (conv_1_5): Sequential(\n",
            "      (0): Conv2d(256, 32, kernel_size=(1, 1), stride=(1, 1))\n",
            "      (1): ReLU()\n",
            "      (2): Conv2d(32, 96, kernel_size=(5, 5), stride=(1, 1), padding=(2, 2))\n",
            "      (3): ReLU()\n",
            "    )\n",
            "    (max_3_1): Sequential(\n",
            "      (0): MaxPool2d(kernel_size=3, stride=1, padding=1, dilation=1, ceil_mode=False)\n",
            "      (1): Conv2d(256, 64, kernel_size=(1, 1), stride=(1, 1))\n",
            "      (2): ReLU()\n",
            "    )\n",
            "  )\n",
            "  (2): MaxPool2d(kernel_size=3, stride=2, padding=1, dilation=1, ceil_mode=False)\n",
            "))\n",
            "('layer_3', Sequential(\n",
            "  (0): inception_module(\n",
            "    (conv_1): Sequential(\n",
            "      (0): Conv2d(480, 192, kernel_size=(1, 1), stride=(1, 1))\n",
            "      (1): ReLU()\n",
            "    )\n",
            "    (conv_1_3): Sequential(\n",
            "      (0): Conv2d(480, 96, kernel_size=(1, 1), stride=(1, 1))\n",
            "      (1): ReLU()\n",
            "      (2): Conv2d(96, 208, kernel_size=(3, 3), stride=(1, 1), padding=(1, 1))\n",
            "      (3): ReLU()\n",
            "    )\n",
            "    (conv_1_5): Sequential(\n",
            "      (0): Conv2d(480, 16, kernel_size=(1, 1), stride=(1, 1))\n",
            "      (1): ReLU()\n",
            "      (2): Conv2d(16, 48, kernel_size=(5, 5), stride=(1, 1), padding=(2, 2))\n",
            "      (3): ReLU()\n",
            "    )\n",
            "    (max_3_1): Sequential(\n",
            "      (0): MaxPool2d(kernel_size=3, stride=1, padding=1, dilation=1, ceil_mode=False)\n",
            "      (1): Conv2d(480, 64, kernel_size=(1, 1), stride=(1, 1))\n",
            "      (2): ReLU()\n",
            "    )\n",
            "  )\n",
            "  (1): inception_module(\n",
            "    (conv_1): Sequential(\n",
            "      (0): Conv2d(512, 160, kernel_size=(1, 1), stride=(1, 1))\n",
            "      (1): ReLU()\n",
            "    )\n",
            "    (conv_1_3): Sequential(\n",
            "      (0): Conv2d(512, 112, kernel_size=(1, 1), stride=(1, 1))\n",
            "      (1): ReLU()\n",
            "      (2): Conv2d(112, 224, kernel_size=(3, 3), stride=(1, 1), padding=(1, 1))\n",
            "      (3): ReLU()\n",
            "    )\n",
            "    (conv_1_5): Sequential(\n",
            "      (0): Conv2d(512, 24, kernel_size=(1, 1), stride=(1, 1))\n",
            "      (1): ReLU()\n",
            "      (2): Conv2d(24, 64, kernel_size=(5, 5), stride=(1, 1), padding=(2, 2))\n",
            "      (3): ReLU()\n",
            "    )\n",
            "    (max_3_1): Sequential(\n",
            "      (0): MaxPool2d(kernel_size=3, stride=1, padding=1, dilation=1, ceil_mode=False)\n",
            "      (1): Conv2d(512, 64, kernel_size=(1, 1), stride=(1, 1))\n",
            "      (2): ReLU()\n",
            "    )\n",
            "  )\n",
            "  (2): inception_module(\n",
            "    (conv_1): Sequential(\n",
            "      (0): Conv2d(512, 128, kernel_size=(1, 1), stride=(1, 1))\n",
            "      (1): ReLU()\n",
            "    )\n",
            "    (conv_1_3): Sequential(\n",
            "      (0): Conv2d(512, 128, kernel_size=(1, 1), stride=(1, 1))\n",
            "      (1): ReLU()\n",
            "      (2): Conv2d(128, 256, kernel_size=(3, 3), stride=(1, 1), padding=(1, 1))\n",
            "      (3): ReLU()\n",
            "    )\n",
            "    (conv_1_5): Sequential(\n",
            "      (0): Conv2d(512, 24, kernel_size=(1, 1), stride=(1, 1))\n",
            "      (1): ReLU()\n",
            "      (2): Conv2d(24, 64, kernel_size=(5, 5), stride=(1, 1), padding=(2, 2))\n",
            "      (3): ReLU()\n",
            "    )\n",
            "    (max_3_1): Sequential(\n",
            "      (0): MaxPool2d(kernel_size=3, stride=1, padding=1, dilation=1, ceil_mode=False)\n",
            "      (1): Conv2d(512, 64, kernel_size=(1, 1), stride=(1, 1))\n",
            "      (2): ReLU()\n",
            "    )\n",
            "  )\n",
            "  (3): inception_module(\n",
            "    (conv_1): Sequential(\n",
            "      (0): Conv2d(512, 112, kernel_size=(1, 1), stride=(1, 1))\n",
            "      (1): ReLU()\n",
            "    )\n",
            "    (conv_1_3): Sequential(\n",
            "      (0): Conv2d(512, 144, kernel_size=(1, 1), stride=(1, 1))\n",
            "      (1): ReLU()\n",
            "      (2): Conv2d(144, 288, kernel_size=(3, 3), stride=(1, 1), padding=(1, 1))\n",
            "      (3): ReLU()\n",
            "    )\n",
            "    (conv_1_5): Sequential(\n",
            "      (0): Conv2d(512, 32, kernel_size=(1, 1), stride=(1, 1))\n",
            "      (1): ReLU()\n",
            "      (2): Conv2d(32, 64, kernel_size=(5, 5), stride=(1, 1), padding=(2, 2))\n",
            "      (3): ReLU()\n",
            "    )\n",
            "    (max_3_1): Sequential(\n",
            "      (0): MaxPool2d(kernel_size=3, stride=1, padding=1, dilation=1, ceil_mode=False)\n",
            "      (1): Conv2d(512, 64, kernel_size=(1, 1), stride=(1, 1))\n",
            "      (2): ReLU()\n",
            "    )\n",
            "  )\n",
            "  (4): inception_module(\n",
            "    (conv_1): Sequential(\n",
            "      (0): Conv2d(528, 256, kernel_size=(1, 1), stride=(1, 1))\n",
            "      (1): ReLU()\n",
            "    )\n",
            "    (conv_1_3): Sequential(\n",
            "      (0): Conv2d(528, 160, kernel_size=(1, 1), stride=(1, 1))\n",
            "      (1): ReLU()\n",
            "      (2): Conv2d(160, 320, kernel_size=(3, 3), stride=(1, 1), padding=(1, 1))\n",
            "      (3): ReLU()\n",
            "    )\n",
            "    (conv_1_5): Sequential(\n",
            "      (0): Conv2d(528, 32, kernel_size=(1, 1), stride=(1, 1))\n",
            "      (1): ReLU()\n",
            "      (2): Conv2d(32, 128, kernel_size=(5, 5), stride=(1, 1), padding=(2, 2))\n",
            "      (3): ReLU()\n",
            "    )\n",
            "    (max_3_1): Sequential(\n",
            "      (0): MaxPool2d(kernel_size=3, stride=1, padding=1, dilation=1, ceil_mode=False)\n",
            "      (1): Conv2d(528, 128, kernel_size=(1, 1), stride=(1, 1))\n",
            "      (2): ReLU()\n",
            "    )\n",
            "  )\n",
            "  (5): MaxPool2d(kernel_size=3, stride=2, padding=1, dilation=1, ceil_mode=False)\n",
            "))\n",
            "('layer_4', Sequential(\n",
            "  (0): inception_module(\n",
            "    (conv_1): Sequential(\n",
            "      (0): Conv2d(832, 256, kernel_size=(1, 1), stride=(1, 1))\n",
            "      (1): ReLU()\n",
            "    )\n",
            "    (conv_1_3): Sequential(\n",
            "      (0): Conv2d(832, 160, kernel_size=(1, 1), stride=(1, 1))\n",
            "      (1): ReLU()\n",
            "      (2): Conv2d(160, 320, kernel_size=(3, 3), stride=(1, 1), padding=(1, 1))\n",
            "      (3): ReLU()\n",
            "    )\n",
            "    (conv_1_5): Sequential(\n",
            "      (0): Conv2d(832, 32, kernel_size=(1, 1), stride=(1, 1))\n",
            "      (1): ReLU()\n",
            "      (2): Conv2d(32, 128, kernel_size=(5, 5), stride=(1, 1), padding=(2, 2))\n",
            "      (3): ReLU()\n",
            "    )\n",
            "    (max_3_1): Sequential(\n",
            "      (0): MaxPool2d(kernel_size=3, stride=1, padding=1, dilation=1, ceil_mode=False)\n",
            "      (1): Conv2d(832, 128, kernel_size=(1, 1), stride=(1, 1))\n",
            "      (2): ReLU()\n",
            "    )\n",
            "  )\n",
            "  (1): inception_module(\n",
            "    (conv_1): Sequential(\n",
            "      (0): Conv2d(832, 384, kernel_size=(1, 1), stride=(1, 1))\n",
            "      (1): ReLU()\n",
            "    )\n",
            "    (conv_1_3): Sequential(\n",
            "      (0): Conv2d(832, 192, kernel_size=(1, 1), stride=(1, 1))\n",
            "      (1): ReLU()\n",
            "      (2): Conv2d(192, 384, kernel_size=(3, 3), stride=(1, 1), padding=(1, 1))\n",
            "      (3): ReLU()\n",
            "    )\n",
            "    (conv_1_5): Sequential(\n",
            "      (0): Conv2d(832, 48, kernel_size=(1, 1), stride=(1, 1))\n",
            "      (1): ReLU()\n",
            "      (2): Conv2d(48, 128, kernel_size=(5, 5), stride=(1, 1), padding=(2, 2))\n",
            "      (3): ReLU()\n",
            "    )\n",
            "    (max_3_1): Sequential(\n",
            "      (0): MaxPool2d(kernel_size=3, stride=1, padding=1, dilation=1, ceil_mode=False)\n",
            "      (1): Conv2d(832, 128, kernel_size=(1, 1), stride=(1, 1))\n",
            "      (2): ReLU()\n",
            "    )\n",
            "  )\n",
            "  (2): AvgPool2d(kernel_size=7, stride=1, padding=0)\n",
            "))\n",
            "('layer_5', Dropout2d(p=0.4, inplace=False))\n",
            "('fc_layer', Linear(in_features=1024, out_features=2, bias=True))\n"
          ],
          "name": "stdout"
        }
      ]
    },
    {
      "cell_type": "code",
      "metadata": {
        "id": "s_f-piFm2Mci",
        "colab_type": "code",
        "colab": {
          "base_uri": "https://localhost:8080/",
          "height": 193
        },
        "outputId": "90aa75eb-5cb0-424a-fa08-f41df9473440"
      },
      "source": [
        "loss_arr = []\n",
        "for i in range(num_epoch):\n",
        "  for j,[image,label] in enumerate(train_loader):\n",
        "    x = image.to(device)\n",
        "    y_ = label.to(device)\n",
        "\n",
        "    optimizer.zero_grad()\n",
        "    output = model.forward(x)\n",
        "    loss = loss_func(output,y_)\n",
        "    loss.backward()\n",
        "    optimizer.step()\n",
        "\n",
        "  if i%10 == 0:\n",
        "    print(loss)\n",
        "    loss_arr.append(loss)\n"
      ],
      "execution_count": 16,
      "outputs": [
        {
          "output_type": "stream",
          "text": [
            "tensor(0.4011, device='cuda:0', grad_fn=<NllLossBackward>)\n",
            "tensor(0.3925, device='cuda:0', grad_fn=<NllLossBackward>)\n",
            "tensor(1.0733, device='cuda:0', grad_fn=<NllLossBackward>)\n",
            "tensor(0.4303, device='cuda:0', grad_fn=<NllLossBackward>)\n",
            "tensor(0.3625, device='cuda:0', grad_fn=<NllLossBackward>)\n",
            "tensor(0.3868, device='cuda:0', grad_fn=<NllLossBackward>)\n",
            "tensor(0.4369, device='cuda:0', grad_fn=<NllLossBackward>)\n",
            "tensor(0.4252, device='cuda:0', grad_fn=<NllLossBackward>)\n",
            "tensor(9.3716, device='cuda:0', grad_fn=<NllLossBackward>)\n",
            "tensor(0.5711, device='cuda:0', grad_fn=<NllLossBackward>)\n"
          ],
          "name": "stdout"
        }
      ]
    },
    {
      "cell_type": "code",
      "metadata": {
        "id": "5XaunD2e21Oe",
        "colab_type": "code",
        "colab": {
          "base_uri": "https://localhost:8080/",
          "height": 281
        },
        "outputId": "fd4923b4-ef2d-4fde-8f73-6ec53cdef1b8"
      },
      "source": [
        "import matplotlib.pyplot as plt\n",
        "plt.title('loss plot')\n",
        "plt.plot(loss_arr)\n",
        "plt.show()"
      ],
      "execution_count": 18,
      "outputs": [
        {
          "output_type": "display_data",
          "data": {
            "image/png": "[encoded data removed]",
            "text/plain": [
              "<Figure size 432x288 with 1 Axes>"
            ]
          },
          "metadata": {
            "tags": [],
            "needs_background": "light"
          }
        }
      ]
    },
    {
      "cell_type": "code",
      "metadata": {
        "id": "4nR1Bt5j47QC",
        "colab_type": "code",
        "colab": {}
      },
      "source": [
        ""
      ],
      "execution_count": null,
      "outputs": []
    }
  ]
}