{
  "nbformat": 4,
  "nbformat_minor": 0,
  "metadata": {
    "colab": {
      "name": "ResNet.ipynb",
      "provenance": []
    },
    "kernelspec": {
      "name": "python3",
      "display_name": "Python 3"
    },
    "accelerator": "GPU"
  },
  "cells": [
    {
      "cell_type": "markdown",
      "metadata": {
        "id": "wUiZqEsf5oVn",
        "colab_type": "text"
      },
      "source": [
        "![alt text](https://www.codeproject.com/KB/AI/1248963/resnet.png)"
      ]
    },
    {
      "cell_type": "code",
      "metadata": {
        "id": "-QV2NUdt5pNv",
        "colab_type": "code",
        "colab": {
          "base_uri": "https://localhost:8080/",
          "height": 54
        },
        "outputId": "2ccfbfe6-7b5a-4bf9-8d72-c04f897e6ea3"
      },
      "source": [
        "!pip install pillow==7\n",
        "%reload_ext autoreload\n",
        "%autoreload"
      ],
      "execution_count": 1,
      "outputs": [
        {
          "output_type": "stream",
          "text": [
            "Requirement already satisfied: pillow==7 in /usr/local/lib/python3.6/dist-packages (7.0.0)\n"
          ],
          "name": "stdout"
        }
      ]
    },
    {
      "cell_type": "code",
      "metadata": {
        "id": "nu80xXg_5x_C",
        "colab_type": "code",
        "colab": {
          "base_uri": "https://localhost:8080/",
          "height": 829
        },
        "outputId": "1c22ff83-ad86-4855-898a-70998c5565da"
      },
      "source": [
        "!rm -r images\n",
        "import os \n",
        "\n",
        "try:\n",
        "  os.mkdir(\"images\")\n",
        "  os.mkdir(\"images/dogs\")\n",
        "  os.mkdir(\"images/cats\")\n",
        "except:\n",
        "  pass\n",
        "\n",
        "!wget https://i.kinja-img.com/gawker-media/image/upload/s--WFkXeene--/c_scale,f_auto,fl_progressive,q_80,w_800/ol9ceoqxidudap8owlwn.jpg -P images/dogs\n",
        "!wget https://www.rspcansw.org.au/wp-content/uploads/2017/08/50_a-feature_dogs-and-puppies_mobile.jpg -P images/dogs\n",
        "  \n",
        "!wget https://www.catster.com/wp-content/uploads/2018/05/A-gray-cat-crying-looking-upset.jpg -P images/cats\n",
        "!wget https://www.scarymommy.com/wp-content/uploads/2018/01/c1.jpg?w=700 -P images/cats"
      ],
      "execution_count": 2,
      "outputs": [
        {
          "output_type": "stream",
          "text": [
            "rm: cannot remove 'images': No such file or directory\n",
            "--2020-08-27 08:33:40--  https://i.kinja-img.com/gawker-media/image/upload/s--WFkXeene--/c_scale,f_auto,fl_progressive,q_80,w_800/ol9ceoqxidudap8owlwn.jpg\n",
            "Resolving i.kinja-img.com (i.kinja-img.com)... 151.101.2.166, 151.101.66.166, 151.101.194.166, ...\n",
            "Connecting to i.kinja-img.com (i.kinja-img.com)|151.101.2.166|:443... connected.\n",
            "HTTP request sent, awaiting response... 200 OK\n",
            "Length: 32099 (31K) [image/jpeg]\n",
            "Saving to: ‘images/dogs/ol9ceoqxidudap8owlwn.jpg’\n",
            "\n",
            "ol9ceoqxidudap8owlw 100%[===================>]  31.35K  --.-KB/s    in 0.01s   \n",
            "\n",
            "2020-08-27 08:33:40 (2.20 MB/s) - ‘images/dogs/ol9ceoqxidudap8owlwn.jpg’ saved [32099/32099]\n",
            "\n",
            "--2020-08-27 08:33:40--  https://www.rspcansw.org.au/wp-content/uploads/2017/08/50_a-feature_dogs-and-puppies_mobile.jpg\n",
            "Resolving www.rspcansw.org.au (www.rspcansw.org.au)... 101.0.86.38\n",
            "Connecting to www.rspcansw.org.au (www.rspcansw.org.au)|101.0.86.38|:443... connected.\n",
            "HTTP request sent, awaiting response... 200 OK\n",
            "Length: 130940 (128K) [image/jpeg]\n",
            "Saving to: ‘images/dogs/50_a-feature_dogs-and-puppies_mobile.jpg’\n",
            "\n",
            "50_a-feature_dogs-a 100%[===================>] 127.87K   301KB/s    in 0.4s    \n",
            "\n",
            "2020-08-27 08:33:42 (301 KB/s) - ‘images/dogs/50_a-feature_dogs-and-puppies_mobile.jpg’ saved [130940/130940]\n",
            "\n",
            "--2020-08-27 08:33:42--  https://www.catster.com/wp-content/uploads/2018/05/A-gray-cat-crying-looking-upset.jpg\n",
            "Resolving www.catster.com (www.catster.com)... 192.124.249.102\n",
            "Connecting to www.catster.com (www.catster.com)|192.124.249.102|:443... connected.\n",
            "HTTP request sent, awaiting response... 200 OK\n",
            "Length: 165145 (161K) [image/jpeg]\n",
            "Saving to: ‘images/cats/A-gray-cat-crying-looking-upset.jpg’\n",
            "\n",
            "A-gray-cat-crying-l 100%[===================>] 161.27K  --.-KB/s    in 0.1s    \n",
            "\n",
            "2020-08-27 08:33:42 (1.10 MB/s) - ‘images/cats/A-gray-cat-crying-looking-upset.jpg’ saved [165145/165145]\n",
            "\n",
            "--2020-08-27 08:33:42--  https://www.scarymommy.com/wp-content/uploads/2018/01/c1.jpg?w=700\n",
            "Resolving www.scarymommy.com (www.scarymommy.com)... 104.18.166.96, 104.18.164.96, 104.18.168.96, ...\n",
            "Connecting to www.scarymommy.com (www.scarymommy.com)|104.18.166.96|:443... connected.\n",
            "HTTP request sent, awaiting response... 200 OK\n",
            "Length: 2169547 (2.1M) [image/jpeg]\n",
            "Saving to: ‘images/cats/c1.jpg?w=700’\n",
            "\n",
            "c1.jpg?w=700        100%[===================>]   2.07M  --.-KB/s    in 0.04s   \n",
            "\n",
            "2020-08-27 08:33:43 (49.3 MB/s) - ‘images/cats/c1.jpg?w=700’ saved [2169547/2169547]\n",
            "\n"
          ],
          "name": "stdout"
        }
      ]
    },
    {
      "cell_type": "code",
      "metadata": {
        "id": "4t8EPSzD53zT",
        "colab_type": "code",
        "colab": {}
      },
      "source": [
        "import numpy as np\n",
        "import torch\n",
        "import torch.nn as nn\n",
        "import torch.optim as optim\n",
        "import torch.nn.init as init\n",
        "import torch.utils.data as data\n",
        "import torchvision.datasets as dset\n",
        "import torchvision.transforms as transforms\n",
        "from torch.utils.data import DataLoader"
      ],
      "execution_count": 3,
      "outputs": []
    },
    {
      "cell_type": "code",
      "metadata": {
        "id": "EzYvZnAd67CR",
        "colab_type": "code",
        "colab": {}
      },
      "source": [
        "batch_size = 1\n",
        "learning_rate = 0.0002\n",
        "num_epoch = 100"
      ],
      "execution_count": 4,
      "outputs": []
    },
    {
      "cell_type": "code",
      "metadata": {
        "id": "AnA_Y3oP6-3s",
        "colab_type": "code",
        "colab": {}
      },
      "source": [
        "img_dir = \"./images\"\n",
        "img_data = dset.ImageFolder(img_dir, transforms.Compose([\n",
        "                                      transforms.Resize(256),                   \n",
        "                                      transforms.RandomResizedCrop(224),        \n",
        "                                      transforms.RandomHorizontalFlip(),        \n",
        "                                      transforms.ToTensor(),                    \n",
        "            ]))\n",
        "\n",
        "train_loader = data.DataLoader(img_data, batch_size=batch_size,\n",
        "                            shuffle=True, num_workers=2)"
      ],
      "execution_count": 5,
      "outputs": []
    },
    {
      "cell_type": "code",
      "metadata": {
        "id": "VSsVC4PM7AUp",
        "colab_type": "code",
        "colab": {}
      },
      "source": [
        "def conv_block_1(in_dim,out_dim,act_fn,stride=1):\n",
        "  model = nn.Sequential(\n",
        "      nn.Conv2d(in_dim,out_dim,kernel_size=1,stride=stride),\n",
        "      act_fn\n",
        "  )\n",
        "  return model\n",
        "\n",
        "def conv_block_3(in_dim,out_dim,act_fn):\n",
        "  model = nn.Sequential(\n",
        "      nn.Conv2d(in_dim,out_dim,kernel_size = 3,stride=1,padding=1),\n",
        "      act_fn\n",
        "  )\n",
        "  return model"
      ],
      "execution_count": 6,
      "outputs": []
    },
    {
      "cell_type": "markdown",
      "metadata": {
        "id": "OIj7b2LF9PQQ",
        "colab_type": "text"
      },
      "source": [
        "### 2) Bottle Neck Module\n",
        "- Bottle Neck 모듈은 [1x1 컨볼루션 -> 3x3 컨볼루션 -> 1x1 컨볼루션]으로 이루어집니다.\n",
        "- 맨 위에 네트워크 구조에서도 볼 수 있듯이 실선은 크기가 변하지 않는 경우, 점선은 크기가 줄어드는 경우입니다. \n",
        "- 이를 한번에 구현하기 위해 down이라는 변수로 크기 감소 여부를 표시하고 조건문으로 경우의 수를 나눠 구현했습니다.\n",
        "- 또한 ResNet의 Skip-connection은 단순 더하기로 정의되어 있기 때문에 특성지도의 크기를 일치시켜야 합니다. \n",
        "- 이를 위해 차원을 맞춰주는 역할로 dim_equalizer라는 것을 정의했습니다."
      ]
    },
    {
      "cell_type": "code",
      "metadata": {
        "id": "htMG39Yp9P6b",
        "colab_type": "code",
        "colab": {}
      },
      "source": [
        "class BottleNeck(nn.Module):\n",
        "  def __init__(self,in_dim,mid_dim,out_dim,act_fn,down=False):\n",
        "    super(BottleNeck,self).__init__()\n",
        "    self.down = down\n",
        "\n",
        "    if self.down: # 특정 지도의 크기가 감소하는 경우\n",
        "      self.layer = nn.Sequential(\n",
        "          conv_block_1(in_dim,mid_dim,act_fn,2),\n",
        "          conv_block_3(mid_dim,mid_dim,act_fn),\n",
        "          conv_block_1(mid_dim,out_dim,act_fn)\n",
        "      )\n",
        "      self.downsample = nn.Conv2d(in_dim,out_dim,1,2)\n",
        "    else: # 특성지도의 크기가 그대로인 경우\n",
        "      self.layer = nn.Sequential(\n",
        "          conv_block_1(in_dim,mid_dim,act_fn),\n",
        "          conv_block_3(mid_dim,mid_dim,act_fn),\n",
        "          conv_block_1(mid_dim,out_dim,act_fn)\n",
        "      )\n",
        "    # 더하기를 위해 차원을 맞춰준다  \n",
        "    self.dim_equalizer = nn.Conv2d(in_dim,out_dim,kernel_size=1)\n",
        "\n",
        "  def forward(self,x):\n",
        "    if self.down:\n",
        "      downsample = self.downsample(x)\n",
        "      out = self.layer(x)\n",
        "      out += downsample\n",
        "    else:\n",
        "      out = self.layer(x)\n",
        "      if x.size() is not out.size():\n",
        "        x = self.dim_equalizer(x)\n",
        "      out+=x\n",
        "    return out"
      ],
      "execution_count": 29,
      "outputs": []
    },
    {
      "cell_type": "markdown",
      "metadata": {
        "id": "Uh28sBtwDVz8",
        "colab_type": "text"
      },
      "source": [
        "# ResNet"
      ]
    },
    {
      "cell_type": "code",
      "metadata": {
        "id": "4WUH5_kvDW1V",
        "colab_type": "code",
        "colab": {}
      },
      "source": [
        "class ResNet(nn.Module):\n",
        "  def __init__(self,base_dim,num_classes = 2):\n",
        "    super(ResNet,self).__init__()\n",
        "    self.act_fn = nn.ReLU()\n",
        "    self.layer_1 = nn.Sequential(\n",
        "        nn.Conv2d(3,base_dim,7,2,3),\n",
        "        nn.ReLU(),\n",
        "        nn.MaxPool2d(3,2,1)\n",
        "    )\n",
        "    self.layer_2 = nn.Sequential(\n",
        "        BottleNeck(base_dim,base_dim,base_dim*4,self.act_fn),\n",
        "        BottleNeck(base_dim*4,base_dim,base_dim*4,self.act_fn),\n",
        "        BottleNeck(base_dim*4,base_dim,base_dim*4,self.act_fn,down=True)\n",
        "    )\n",
        "    self.layer_3 = nn.Sequential(\n",
        "        BottleNeck(base_dim*4,base_dim*2,base_dim*8,self.act_fn),\n",
        "        BottleNeck(base_dim*8,base_dim*2,base_dim*8,self.act_fn),\n",
        "        BottleNeck(base_dim*8,base_dim*2,base_dim*8,self.act_fn),\n",
        "        BottleNeck(base_dim*8,base_dim*2,base_dim*8,self.act_fn,down=True),\n",
        "    )\n",
        "    self.layer_4 = nn.Sequential(\n",
        "        BottleNeck(base_dim*8,base_dim*4,base_dim*16,self.act_fn),\n",
        "        BottleNeck(base_dim*16,base_dim*4,base_dim*16,self.act_fn),\n",
        "        BottleNeck(base_dim*16,base_dim*4,base_dim*16,self.act_fn),\n",
        "        BottleNeck(base_dim*16,base_dim*4,base_dim*16,self.act_fn),\n",
        "        BottleNeck(base_dim*16,base_dim*4,base_dim*16,self.act_fn),\n",
        "        BottleNeck(base_dim*16,base_dim*4,base_dim*16,self.act_fn,down=True),\n",
        "    )\n",
        "    self.layer_5 = nn.Sequential(\n",
        "        BottleNeck(base_dim*16,base_dim*8,base_dim*32,self.act_fn),\n",
        "        BottleNeck(base_dim*32,base_dim*8,base_dim*32,self.act_fn),\n",
        "        BottleNeck(base_dim*32,base_dim*8,base_dim*32,self.act_fn),\n",
        "    )\n",
        "    self.avgpool = nn.AvgPool2d(7,1)\n",
        "    self.fc_layer = nn.Linear(base_dim*32,num_classes)\n",
        "  \n",
        "  def forward(self,x):\n",
        "    out = self.layer_1(x)\n",
        "    out = self.layer_2(out)\n",
        "    out = self.layer_3(out)\n",
        "    out = self.layer_4(out)\n",
        "    out = self.layer_5(out)\n",
        "    out = self.avgpool(out)\n",
        "    out = out.view(batch_size,-1)\n",
        "    out = self.fc_layer(out)\n",
        "\n",
        "    return out\n"
      ],
      "execution_count": 42,
      "outputs": []
    },
    {
      "cell_type": "code",
      "metadata": {
        "id": "uhhUAOgyI-l_",
        "colab_type": "code",
        "colab": {
          "base_uri": "https://localhost:8080/",
          "height": 34
        },
        "outputId": "5bad4743-45ae-4577-aa6d-4f0c76c97b5a"
      },
      "source": [
        "device = (\"cuda:0\" if torch.cuda.is_available() else \"cpu\")\n",
        "print(device)"
      ],
      "execution_count": 43,
      "outputs": [
        {
          "output_type": "stream",
          "text": [
            "cuda:0\n"
          ],
          "name": "stdout"
        }
      ]
    },
    {
      "cell_type": "code",
      "metadata": {
        "id": "tZrMd2DoKAAi",
        "colab_type": "code",
        "colab": {
          "base_uri": "https://localhost:8080/",
          "height": 1000
        },
        "outputId": "e1fa7bdb-f141-4f3e-ab6c-bb981b1dd92f"
      },
      "source": [
        "model = ResNet(base_dim = 64).to(device)\n",
        "\n",
        "for i in model.children():\n",
        "  print(i)\n",
        "\n",
        "loss_func = nn.CrossEntropyLoss()\n",
        "optimizer = optim.Adam(model.parameters(),lr=learning_rate)"
      ],
      "execution_count": 44,
      "outputs": [
        {
          "output_type": "stream",
          "text": [
            "ReLU()\n",
            "Sequential(\n",
            "  (0): Conv2d(3, 64, kernel_size=(7, 7), stride=(2, 2), padding=(3, 3))\n",
            "  (1): ReLU()\n",
            "  (2): MaxPool2d(kernel_size=3, stride=2, padding=1, dilation=1, ceil_mode=False)\n",
            ")\n",
            "Sequential(\n",
            "  (0): BottleNeck(\n",
            "    (layer): Sequential(\n",
            "      (0): Sequential(\n",
            "        (0): Conv2d(64, 64, kernel_size=(1, 1), stride=(1, 1))\n",
            "        (1): ReLU()\n",
            "      )\n",
            "      (1): Sequential(\n",
            "        (0): Conv2d(64, 64, kernel_size=(3, 3), stride=(1, 1), padding=(1, 1))\n",
            "        (1): ReLU()\n",
            "      )\n",
            "      (2): Sequential(\n",
            "        (0): Conv2d(64, 256, kernel_size=(1, 1), stride=(1, 1))\n",
            "        (1): ReLU()\n",
            "      )\n",
            "    )\n",
            "    (dim_equalizer): Conv2d(64, 256, kernel_size=(1, 1), stride=(1, 1))\n",
            "  )\n",
            "  (1): BottleNeck(\n",
            "    (layer): Sequential(\n",
            "      (0): Sequential(\n",
            "        (0): Conv2d(256, 64, kernel_size=(1, 1), stride=(1, 1))\n",
            "        (1): ReLU()\n",
            "      )\n",
            "      (1): Sequential(\n",
            "        (0): Conv2d(64, 64, kernel_size=(3, 3), stride=(1, 1), padding=(1, 1))\n",
            "        (1): ReLU()\n",
            "      )\n",
            "      (2): Sequential(\n",
            "        (0): Conv2d(64, 256, kernel_size=(1, 1), stride=(1, 1))\n",
            "        (1): ReLU()\n",
            "      )\n",
            "    )\n",
            "    (dim_equalizer): Conv2d(256, 256, kernel_size=(1, 1), stride=(1, 1))\n",
            "  )\n",
            "  (2): BottleNeck(\n",
            "    (layer): Sequential(\n",
            "      (0): Sequential(\n",
            "        (0): Conv2d(256, 64, kernel_size=(1, 1), stride=(2, 2))\n",
            "        (1): ReLU()\n",
            "      )\n",
            "      (1): Sequential(\n",
            "        (0): Conv2d(64, 64, kernel_size=(3, 3), stride=(1, 1), padding=(1, 1))\n",
            "        (1): ReLU()\n",
            "      )\n",
            "      (2): Sequential(\n",
            "        (0): Conv2d(64, 256, kernel_size=(1, 1), stride=(1, 1))\n",
            "        (1): ReLU()\n",
            "      )\n",
            "    )\n",
            "    (downsample): Conv2d(256, 256, kernel_size=(1, 1), stride=(2, 2))\n",
            "    (dim_equalizer): Conv2d(256, 256, kernel_size=(1, 1), stride=(1, 1))\n",
            "  )\n",
            ")\n",
            "Sequential(\n",
            "  (0): BottleNeck(\n",
            "    (layer): Sequential(\n",
            "      (0): Sequential(\n",
            "        (0): Conv2d(256, 128, kernel_size=(1, 1), stride=(1, 1))\n",
            "        (1): ReLU()\n",
            "      )\n",
            "      (1): Sequential(\n",
            "        (0): Conv2d(128, 128, kernel_size=(3, 3), stride=(1, 1), padding=(1, 1))\n",
            "        (1): ReLU()\n",
            "      )\n",
            "      (2): Sequential(\n",
            "        (0): Conv2d(128, 512, kernel_size=(1, 1), stride=(1, 1))\n",
            "        (1): ReLU()\n",
            "      )\n",
            "    )\n",
            "    (dim_equalizer): Conv2d(256, 512, kernel_size=(1, 1), stride=(1, 1))\n",
            "  )\n",
            "  (1): BottleNeck(\n",
            "    (layer): Sequential(\n",
            "      (0): Sequential(\n",
            "        (0): Conv2d(512, 128, kernel_size=(1, 1), stride=(1, 1))\n",
            "        (1): ReLU()\n",
            "      )\n",
            "      (1): Sequential(\n",
            "        (0): Conv2d(128, 128, kernel_size=(3, 3), stride=(1, 1), padding=(1, 1))\n",
            "        (1): ReLU()\n",
            "      )\n",
            "      (2): Sequential(\n",
            "        (0): Conv2d(128, 512, kernel_size=(1, 1), stride=(1, 1))\n",
            "        (1): ReLU()\n",
            "      )\n",
            "    )\n",
            "    (dim_equalizer): Conv2d(512, 512, kernel_size=(1, 1), stride=(1, 1))\n",
            "  )\n",
            "  (2): BottleNeck(\n",
            "    (layer): Sequential(\n",
            "      (0): Sequential(\n",
            "        (0): Conv2d(512, 128, kernel_size=(1, 1), stride=(1, 1))\n",
            "        (1): ReLU()\n",
            "      )\n",
            "      (1): Sequential(\n",
            "        (0): Conv2d(128, 128, kernel_size=(3, 3), stride=(1, 1), padding=(1, 1))\n",
            "        (1): ReLU()\n",
            "      )\n",
            "      (2): Sequential(\n",
            "        (0): Conv2d(128, 512, kernel_size=(1, 1), stride=(1, 1))\n",
            "        (1): ReLU()\n",
            "      )\n",
            "    )\n",
            "    (dim_equalizer): Conv2d(512, 512, kernel_size=(1, 1), stride=(1, 1))\n",
            "  )\n",
            "  (3): BottleNeck(\n",
            "    (layer): Sequential(\n",
            "      (0): Sequential(\n",
            "        (0): Conv2d(512, 128, kernel_size=(1, 1), stride=(2, 2))\n",
            "        (1): ReLU()\n",
            "      )\n",
            "      (1): Sequential(\n",
            "        (0): Conv2d(128, 128, kernel_size=(3, 3), stride=(1, 1), padding=(1, 1))\n",
            "        (1): ReLU()\n",
            "      )\n",
            "      (2): Sequential(\n",
            "        (0): Conv2d(128, 512, kernel_size=(1, 1), stride=(1, 1))\n",
            "        (1): ReLU()\n",
            "      )\n",
            "    )\n",
            "    (downsample): Conv2d(512, 512, kernel_size=(1, 1), stride=(2, 2))\n",
            "    (dim_equalizer): Conv2d(512, 512, kernel_size=(1, 1), stride=(1, 1))\n",
            "  )\n",
            ")\n",
            "Sequential(\n",
            "  (0): BottleNeck(\n",
            "    (layer): Sequential(\n",
            "      (0): Sequential(\n",
            "        (0): Conv2d(512, 256, kernel_size=(1, 1), stride=(1, 1))\n",
            "        (1): ReLU()\n",
            "      )\n",
            "      (1): Sequential(\n",
            "        (0): Conv2d(256, 256, kernel_size=(3, 3), stride=(1, 1), padding=(1, 1))\n",
            "        (1): ReLU()\n",
            "      )\n",
            "      (2): Sequential(\n",
            "        (0): Conv2d(256, 1024, kernel_size=(1, 1), stride=(1, 1))\n",
            "        (1): ReLU()\n",
            "      )\n",
            "    )\n",
            "    (dim_equalizer): Conv2d(512, 1024, kernel_size=(1, 1), stride=(1, 1))\n",
            "  )\n",
            "  (1): BottleNeck(\n",
            "    (layer): Sequential(\n",
            "      (0): Sequential(\n",
            "        (0): Conv2d(1024, 256, kernel_size=(1, 1), stride=(1, 1))\n",
            "        (1): ReLU()\n",
            "      )\n",
            "      (1): Sequential(\n",
            "        (0): Conv2d(256, 256, kernel_size=(3, 3), stride=(1, 1), padding=(1, 1))\n",
            "        (1): ReLU()\n",
            "      )\n",
            "      (2): Sequential(\n",
            "        (0): Conv2d(256, 1024, kernel_size=(1, 1), stride=(1, 1))\n",
            "        (1): ReLU()\n",
            "      )\n",
            "    )\n",
            "    (dim_equalizer): Conv2d(1024, 1024, kernel_size=(1, 1), stride=(1, 1))\n",
            "  )\n",
            "  (2): BottleNeck(\n",
            "    (layer): Sequential(\n",
            "      (0): Sequential(\n",
            "        (0): Conv2d(1024, 256, kernel_size=(1, 1), stride=(1, 1))\n",
            "        (1): ReLU()\n",
            "      )\n",
            "      (1): Sequential(\n",
            "        (0): Conv2d(256, 256, kernel_size=(3, 3), stride=(1, 1), padding=(1, 1))\n",
            "        (1): ReLU()\n",
            "      )\n",
            "      (2): Sequential(\n",
            "        (0): Conv2d(256, 1024, kernel_size=(1, 1), stride=(1, 1))\n",
            "        (1): ReLU()\n",
            "      )\n",
            "    )\n",
            "    (dim_equalizer): Conv2d(1024, 1024, kernel_size=(1, 1), stride=(1, 1))\n",
            "  )\n",
            "  (3): BottleNeck(\n",
            "    (layer): Sequential(\n",
            "      (0): Sequential(\n",
            "        (0): Conv2d(1024, 256, kernel_size=(1, 1), stride=(1, 1))\n",
            "        (1): ReLU()\n",
            "      )\n",
            "      (1): Sequential(\n",
            "        (0): Conv2d(256, 256, kernel_size=(3, 3), stride=(1, 1), padding=(1, 1))\n",
            "        (1): ReLU()\n",
            "      )\n",
            "      (2): Sequential(\n",
            "        (0): Conv2d(256, 1024, kernel_size=(1, 1), stride=(1, 1))\n",
            "        (1): ReLU()\n",
            "      )\n",
            "    )\n",
            "    (dim_equalizer): Conv2d(1024, 1024, kernel_size=(1, 1), stride=(1, 1))\n",
            "  )\n",
            "  (4): BottleNeck(\n",
            "    (layer): Sequential(\n",
            "      (0): Sequential(\n",
            "        (0): Conv2d(1024, 256, kernel_size=(1, 1), stride=(1, 1))\n",
            "        (1): ReLU()\n",
            "      )\n",
            "      (1): Sequential(\n",
            "        (0): Conv2d(256, 256, kernel_size=(3, 3), stride=(1, 1), padding=(1, 1))\n",
            "        (1): ReLU()\n",
            "      )\n",
            "      (2): Sequential(\n",
            "        (0): Conv2d(256, 1024, kernel_size=(1, 1), stride=(1, 1))\n",
            "        (1): ReLU()\n",
            "      )\n",
            "    )\n",
            "    (dim_equalizer): Conv2d(1024, 1024, kernel_size=(1, 1), stride=(1, 1))\n",
            "  )\n",
            "  (5): BottleNeck(\n",
            "    (layer): Sequential(\n",
            "      (0): Sequential(\n",
            "        (0): Conv2d(1024, 256, kernel_size=(1, 1), stride=(2, 2))\n",
            "        (1): ReLU()\n",
            "      )\n",
            "      (1): Sequential(\n",
            "        (0): Conv2d(256, 256, kernel_size=(3, 3), stride=(1, 1), padding=(1, 1))\n",
            "        (1): ReLU()\n",
            "      )\n",
            "      (2): Sequential(\n",
            "        (0): Conv2d(256, 1024, kernel_size=(1, 1), stride=(1, 1))\n",
            "        (1): ReLU()\n",
            "      )\n",
            "    )\n",
            "    (downsample): Conv2d(1024, 1024, kernel_size=(1, 1), stride=(2, 2))\n",
            "    (dim_equalizer): Conv2d(1024, 1024, kernel_size=(1, 1), stride=(1, 1))\n",
            "  )\n",
            ")\n",
            "Sequential(\n",
            "  (0): BottleNeck(\n",
            "    (layer): Sequential(\n",
            "      (0): Sequential(\n",
            "        (0): Conv2d(1024, 512, kernel_size=(1, 1), stride=(1, 1))\n",
            "        (1): ReLU()\n",
            "      )\n",
            "      (1): Sequential(\n",
            "        (0): Conv2d(512, 512, kernel_size=(3, 3), stride=(1, 1), padding=(1, 1))\n",
            "        (1): ReLU()\n",
            "      )\n",
            "      (2): Sequential(\n",
            "        (0): Conv2d(512, 2048, kernel_size=(1, 1), stride=(1, 1))\n",
            "        (1): ReLU()\n",
            "      )\n",
            "    )\n",
            "    (dim_equalizer): Conv2d(1024, 2048, kernel_size=(1, 1), stride=(1, 1))\n",
            "  )\n",
            "  (1): BottleNeck(\n",
            "    (layer): Sequential(\n",
            "      (0): Sequential(\n",
            "        (0): Conv2d(2048, 512, kernel_size=(1, 1), stride=(1, 1))\n",
            "        (1): ReLU()\n",
            "      )\n",
            "      (1): Sequential(\n",
            "        (0): Conv2d(512, 512, kernel_size=(3, 3), stride=(1, 1), padding=(1, 1))\n",
            "        (1): ReLU()\n",
            "      )\n",
            "      (2): Sequential(\n",
            "        (0): Conv2d(512, 2048, kernel_size=(1, 1), stride=(1, 1))\n",
            "        (1): ReLU()\n",
            "      )\n",
            "    )\n",
            "    (dim_equalizer): Conv2d(2048, 2048, kernel_size=(1, 1), stride=(1, 1))\n",
            "  )\n",
            "  (2): BottleNeck(\n",
            "    (layer): Sequential(\n",
            "      (0): Sequential(\n",
            "        (0): Conv2d(2048, 512, kernel_size=(1, 1), stride=(1, 1))\n",
            "        (1): ReLU()\n",
            "      )\n",
            "      (1): Sequential(\n",
            "        (0): Conv2d(512, 512, kernel_size=(3, 3), stride=(1, 1), padding=(1, 1))\n",
            "        (1): ReLU()\n",
            "      )\n",
            "      (2): Sequential(\n",
            "        (0): Conv2d(512, 2048, kernel_size=(1, 1), stride=(1, 1))\n",
            "        (1): ReLU()\n",
            "      )\n",
            "    )\n",
            "    (dim_equalizer): Conv2d(2048, 2048, kernel_size=(1, 1), stride=(1, 1))\n",
            "  )\n",
            ")\n",
            "AvgPool2d(kernel_size=7, stride=1, padding=0)\n",
            "Linear(in_features=2048, out_features=2, bias=True)\n"
          ],
          "name": "stdout"
        }
      ]
    },
    {
      "cell_type": "code",
      "metadata": {
        "id": "YcSUF7B5JLDU",
        "colab_type": "code",
        "colab": {
          "base_uri": "https://localhost:8080/",
          "height": 193
        },
        "outputId": "52927a0b-2a51-4245-a769-460a690c41f0"
      },
      "source": [
        "loss_arr = []\n",
        "for i in range(num_epoch):\n",
        "  for j,[image,label] in enumerate(train_loader):\n",
        "    x = image.to(device)\n",
        "    y_ = label.to(device)\n",
        "\n",
        "    optimizer.zero_grad()\n",
        "    output = model.forward(x)\n",
        "    loss = loss_func(output,y_)\n",
        "    loss.backward()\n",
        "    optimizer.step()\n",
        "\n",
        "  if i%10 == 0:\n",
        "    print(loss)\n",
        "    loss_arr.append(loss)"
      ],
      "execution_count": 45,
      "outputs": [
        {
          "output_type": "stream",
          "text": [
            "tensor(2.2374, device='cuda:0', grad_fn=<NllLossBackward>)\n",
            "tensor(0.4306, device='cuda:0', grad_fn=<NllLossBackward>)\n",
            "tensor(0.4512, device='cuda:0', grad_fn=<NllLossBackward>)\n",
            "tensor(0.4271, device='cuda:0', grad_fn=<NllLossBackward>)\n",
            "tensor(1.0898, device='cuda:0', grad_fn=<NllLossBackward>)\n",
            "tensor(1.0881, device='cuda:0', grad_fn=<NllLossBackward>)\n",
            "tensor(0.4374, device='cuda:0', grad_fn=<NllLossBackward>)\n",
            "tensor(0.4194, device='cuda:0', grad_fn=<NllLossBackward>)\n",
            "tensor(1.0943, device='cuda:0', grad_fn=<NllLossBackward>)\n",
            "tensor(1.1258, device='cuda:0', grad_fn=<NllLossBackward>)\n"
          ],
          "name": "stdout"
        }
      ]
    },
    {
      "cell_type": "code",
      "metadata": {
        "id": "kY0ymy4aJ2bb",
        "colab_type": "code",
        "colab": {
          "base_uri": "https://localhost:8080/",
          "height": 265
        },
        "outputId": "21f8e2d3-86f5-4395-95e9-6a218643c9e1"
      },
      "source": [
        "import matplotlib.pyplot as plt\n",
        "plt.plot(loss_arr)\n",
        "plt.show()"
      ],
      "execution_count": 47,
      "outputs": [
        {
          "output_type": "display_data",
          "data": {
            "image/png": "[encoded data removed]",
            "text/plain": [
              "<Figure size 432x288 with 1 Axes>"
            ]
          },
          "metadata": {
            "tags": [],
            "needs_background": "light"
          }
        }
      ]
    },
    {
      "cell_type": "code",
      "metadata": {
        "id": "QXTXza2LM-d_",
        "colab_type": "code",
        "colab": {}
      },
      "source": [
        ""
      ],
      "execution_count": null,
      "outputs": []
    }
  ]
}