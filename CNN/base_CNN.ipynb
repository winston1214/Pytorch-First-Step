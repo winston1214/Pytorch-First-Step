{
  "nbformat": 4,
  "nbformat_minor": 0,
  "metadata": {
    "colab": {
      "name": "base CNN.ipynb",
      "provenance": []
    },
    "kernelspec": {
      "name": "python3",
      "display_name": "Python 3"
    },
    "accelerator": "GPU"
  },
  "cells": [
    {
      "cell_type": "code",
      "metadata": {
        "id": "Bu5fN1tlirS-",
        "colab_type": "code",
        "colab": {}
      },
      "source": [
        "# GPU로 설정"
      ],
      "execution_count": 24,
      "outputs": []
    },
    {
      "cell_type": "code",
      "metadata": {
        "id": "9YaoGKO8i1P8",
        "colab_type": "code",
        "colab": {
          "base_uri": "https://localhost:8080/",
          "height": 34
        },
        "outputId": "d2580ccc-f6fa-41f3-8192-b2d95dcb0b11"
      },
      "source": [
        "import torch\n",
        "import torch.nn as nn\n",
        "import torch.optim as optim\n",
        "import torch.nn.init as init\n",
        "\n",
        "import torchvision.datasets as dset\n",
        "\n",
        "import torchvision.transforms as transforms\n",
        "\n",
        "from torch.utils.data import DataLoader\n",
        "\n",
        "import numpy as np\n",
        "import matplotlib.pyplot as plt\n",
        "\n",
        "print(torch.__version__)"
      ],
      "execution_count": 25,
      "outputs": [
        {
          "output_type": "stream",
          "text": [
            "1.6.0+cu101\n"
          ],
          "name": "stdout"
        }
      ]
    },
    {
      "cell_type": "markdown",
      "metadata": {
        "id": "x7hiRVPdjJhj",
        "colab_type": "text"
      },
      "source": [
        "# Padding\n",
        "- 일정한 크기의 층으로 이미지를 감싸는 것\n",
        "- 즉, 이미지의 크기를 늘리는 것\n",
        "\n",
        "# Pooling\n",
        "- Convolution을 거쳐서 나온 activation maps이 있을 때, 이를 이루는 convolution layer을 resizing하여 새로운 layer를 얻는 것\n",
        "- 즉, 크기 줄이는 것\n",
        "- 종류 : MaxPooling, AveragePooling\n",
        "  - MaxPooling: 강한 자극만 남기고 나머지 무시\n",
        "  - AveragePooling: 평균적인 자극을 전달"
      ]
    },
    {
      "cell_type": "code",
      "metadata": {
        "id": "8cgPwOEui_sj",
        "colab_type": "code",
        "colab": {}
      },
      "source": [
        "batch_size = 256\n",
        "learning_rate = 0.002\n",
        "num_epoch = 10"
      ],
      "execution_count": 26,
      "outputs": []
    },
    {
      "cell_type": "code",
      "metadata": {
        "id": "HvDo9FHwkQPK",
        "colab_type": "code",
        "colab": {}
      },
      "source": [
        "mnist_train = dset.MNIST(\"./\",train=True,transform = transforms.ToTensor(),target_transform=None,download=True)\n",
        "mnist_test = dset.MNIST(\"./\",train=False,transform = transforms.ToTensor(),target_transform=None,download=True)\n",
        "# transform : 각각 데이터와 라벨에 대한 변형\n",
        "train_loader = torch.utils.data.DataLoader(mnist_train,batch_size = batch_size,shuffle=True,num_workers=2,drop_last=True)\n",
        "test_loader = torch.utils.data.DataLoader(mnist_test,batch_size = batch_size,shuffle=True,num_workers=2,drop_last=True)\n",
        "# batch_size만큼 묶고, num_workers = 묶을 때 사용할 프로세스 개수\n",
        "# drop_last = 묶고 남는 데이터 버릴지 여부"
      ],
      "execution_count": 27,
      "outputs": []
    },
    {
      "cell_type": "code",
      "metadata": {
        "id": "vb76TzPkou32",
        "colab_type": "code",
        "colab": {
          "base_uri": "https://localhost:8080/",
          "height": 282
        },
        "outputId": "94754e20-2d6a-463d-cca6-0d97d1597183"
      },
      "source": [
        "import matplotlib\n",
        "some_digit_image = mnist_train.__getitem__(0)[0].reshape(28,28)\n",
        "plt.imshow(some_digit_image,cmap = matplotlib.cm.binary,interpolation='nearest')"
      ],
      "execution_count": 28,
      "outputs": [
        {
          "output_type": "execute_result",
          "data": {
            "text/plain": [
              "<matplotlib.image.AxesImage at 0x7fd6c5f1a828>"
            ]
          },
          "metadata": {
            "tags": []
          },
          "execution_count": 28
        },
        {
          "output_type": "display_data",
          "data": {
            "image/png": "[encoded data removed]",
            "text/plain": [
              "<Figure size 432x288 with 1 Axes>"
            ]
          },
          "metadata": {
            "tags": [],
            "needs_background": "light"
          }
        }
      ]
    },
    {
      "cell_type": "code",
      "metadata": {
        "id": "QWXiZN9Lkgw3",
        "colab_type": "code",
        "colab": {}
      },
      "source": [
        "class CNN(nn.Module): # 상속받을 부모 클래스\n",
        "  def __init__(self):\n",
        "    super(CNN,self).__init__()\n",
        "    self.layer = nn.Sequential(nn.Conv2d(1,16,5),\n",
        "                               nn.ReLU(),\n",
        "                               nn.Conv2d(16,32,5),\n",
        "                               nn.ReLU(),\n",
        "                               nn.MaxPool2d(2,2), # maxpooling \n",
        "                               nn.Conv2d(32,64,5),\n",
        "                               nn.ReLU(),\n",
        "                               nn.MaxPool2d(2,2))\n",
        "    self.fc_layer = nn.Sequential(\n",
        "        nn.Linear(64*3*3,100),\n",
        "        nn.ReLU(),\n",
        "        nn.Linear(100,10)\n",
        "    )\n",
        "  def forward(self,x):\n",
        "    out = self.layer(x)\n",
        "    out = out.view(batch_size,-1)\n",
        "    out = self.fc_layer(out)\n",
        "    return out"
      ],
      "execution_count": 29,
      "outputs": []
    },
    {
      "cell_type": "code",
      "metadata": {
        "id": "Va_TCzMXoZxb",
        "colab_type": "code",
        "colab": {
          "base_uri": "https://localhost:8080/",
          "height": 34
        },
        "outputId": "961ed892-3f30-4132-ab91-d871bf8882b5"
      },
      "source": [
        "device = torch.device(\"cuda:0\" if torch.cuda.is_available() else \"cpu\")\n",
        "print(device)"
      ],
      "execution_count": 30,
      "outputs": [
        {
          "output_type": "stream",
          "text": [
            "cuda:0\n"
          ],
          "name": "stdout"
        }
      ]
    },
    {
      "cell_type": "code",
      "metadata": {
        "id": "SdbQHh8upE1y",
        "colab_type": "code",
        "colab": {}
      },
      "source": [
        "model = CNN().to(device)\n",
        "loss_func = nn.CrossEntropyLoss()\n",
        "optimizer = torch.optim.Adam(model.parameters(),lr=learning_rate)"
      ],
      "execution_count": 31,
      "outputs": []
    },
    {
      "cell_type": "code",
      "metadata": {
        "id": "REqLDY-apQZb",
        "colab_type": "code",
        "colab": {
          "base_uri": "https://localhost:8080/",
          "height": 193
        },
        "outputId": "63e4aa11-db7c-4c3a-a8cf-5c4555301157"
      },
      "source": [
        "loss_arr =[]\n",
        "for i in range(num_epoch):\n",
        "    for j,[image,label] in enumerate(train_loader):\n",
        "        x = image.to(device)\n",
        "        y_= label.to(device)\n",
        "        \n",
        "        optimizer.zero_grad()\n",
        "        output = model.forward(x)\n",
        "        loss = loss_func(output,y_)\n",
        "        loss.backward()\n",
        "        optimizer.step()\n",
        "        \n",
        "        if j % 1000 == 0:\n",
        "            print(loss)\n",
        "            loss_arr.append(loss.cpu().detach().numpy())"
      ],
      "execution_count": 32,
      "outputs": [
        {
          "output_type": "stream",
          "text": [
            "tensor(2.2979, device='cuda:0', grad_fn=<NllLossBackward>)\n",
            "tensor(0.0881, device='cuda:0', grad_fn=<NllLossBackward>)\n",
            "tensor(0.0458, device='cuda:0', grad_fn=<NllLossBackward>)\n",
            "tensor(0.0162, device='cuda:0', grad_fn=<NllLossBackward>)\n",
            "tensor(0.0242, device='cuda:0', grad_fn=<NllLossBackward>)\n",
            "tensor(0.0185, device='cuda:0', grad_fn=<NllLossBackward>)\n",
            "tensor(0.0041, device='cuda:0', grad_fn=<NllLossBackward>)\n",
            "tensor(0.0090, device='cuda:0', grad_fn=<NllLossBackward>)\n",
            "tensor(0.0031, device='cuda:0', grad_fn=<NllLossBackward>)\n",
            "tensor(0.0038, device='cuda:0', grad_fn=<NllLossBackward>)\n"
          ],
          "name": "stdout"
        }
      ]
    },
    {
      "cell_type": "code",
      "metadata": {
        "id": "MqzGgNXWqFAA",
        "colab_type": "code",
        "colab": {
          "base_uri": "https://localhost:8080/",
          "height": 265
        },
        "outputId": "dfc19b80-5609-482b-9a03-261e2214e7b9"
      },
      "source": [
        "plt.plot(loss_arr)\n",
        "plt.show()"
      ],
      "execution_count": 33,
      "outputs": [
        {
          "output_type": "display_data",
          "data": {
            "image/png": "[encoded data removed]",
            "text/plain": [
              "<Figure size 432x288 with 1 Axes>"
            ]
          },
          "metadata": {
            "tags": [],
            "needs_background": "light"
          }
        }
      ]
    },
    {
      "cell_type": "code",
      "metadata": {
        "id": "u6e495ktqa-i",
        "colab_type": "code",
        "colab": {
          "base_uri": "https://localhost:8080/",
          "height": 34
        },
        "outputId": "cf778889-eee0-4c14-e9c0-4b63386f6232"
      },
      "source": [
        "correct = 0\n",
        "total = 0\n",
        "with torch.no_grad():\n",
        "  for image,label in test_loader:\n",
        "    x = image.to(device)\n",
        "    y_ = label.to(device)\n",
        "\n",
        "    output = model.forward(x)\n",
        "    _,output_index = torch.max(output,1)\n",
        "\n",
        "    total += label.size(0)\n",
        "    correct += (output_index == y_).sum().float()\n",
        "print('Accuracy of Test Data: {}'.format(100*correct/total))"
      ],
      "execution_count": 35,
      "outputs": [
        {
          "output_type": "stream",
          "text": [
            "Accuracy of Test Data: 99.00841522216797\n"
          ],
          "name": "stdout"
        }
      ]
    }
  ]
}