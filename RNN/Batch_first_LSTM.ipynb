{
  "nbformat": 4,
  "nbformat_minor": 0,
  "metadata": {
    "colab": {
      "name": "Batch_first_LSTM.ipynb",
      "provenance": []
    },
    "kernelspec": {
      "name": "python3",
      "display_name": "Python 3"
    }
  },
  "cells": [
    {
      "cell_type": "code",
      "metadata": {
        "id": "pKA9nrE3lsb0"
      },
      "source": [
        "import torch\n",
        "import torch.nn as nn\n",
        "import torch.optim as optim\n",
        "import numpy as np\n",
        "import string"
      ],
      "execution_count": 4,
      "outputs": []
    },
    {
      "cell_type": "code",
      "metadata": {
        "id": "dRCzh3JJl0GH",
        "outputId": "0e591eec-331d-462a-efa1-7b6e5afaa096",
        "colab": {
          "base_uri": "https://localhost:8080/",
          "height": 34
        }
      },
      "source": [
        "string_ = 'hello pytorch. how long can a rnn cell remember? show me your limit ^^'\n",
        "chars = string.printable\n",
        "char_list = [i for i in chars]\n",
        "char_len = len(char_list)\n",
        "print(char_len)"
      ],
      "execution_count": 6,
      "outputs": [
        {
          "output_type": "stream",
          "text": [
            "100\n"
          ],
          "name": "stdout"
        }
      ]
    },
    {
      "cell_type": "code",
      "metadata": {
        "id": "_SWkc6XfmBUH"
      },
      "source": [
        "def string_to_onehot(string):\n",
        "    start = np.zeros(shape=char_len ,dtype=int)\n",
        "    end = np.zeros(shape=char_len ,dtype=int)\n",
        "    start[-2] = 1\n",
        "    end[-1] = 1\n",
        "    for i in string:\n",
        "        idx = char_list.index(i)\n",
        "        zero = np.zeros(shape=char_len ,dtype=int)\n",
        "        zero[idx]=1\n",
        "        start = np.vstack([start,zero])\n",
        "    output = np.vstack([start,end])\n",
        "    return output"
      ],
      "execution_count": 7,
      "outputs": []
    },
    {
      "cell_type": "code",
      "metadata": {
        "id": "MX3R-DnSmKri"
      },
      "source": [
        "def onehot_to_word(onehot_1):\n",
        "    onehot = torch.Tensor.numpy(onehot_1)\n",
        "    return char_list[onehot.argmax()]"
      ],
      "execution_count": 8,
      "outputs": []
    },
    {
      "cell_type": "code",
      "metadata": {
        "id": "ZzvzwMV_mM0n",
        "outputId": "ee48953b-8791-4278-a716-cd4e4e7ff9fb",
        "colab": {
          "base_uri": "https://localhost:8080/",
          "height": 34
        }
      },
      "source": [
        "batch_size = 5\n",
        "seq_len = 1\n",
        "num_layers = 3\n",
        "input_size = char_len\n",
        "hidden_size = 100\n",
        "lr = 0.01\n",
        "num_epochs = 1000\n",
        "one_hot = torch.from_numpy(string_to_onehot(string_)).type_as(torch.FloatTensor())\n",
        "\n",
        "print(one_hot.size())"
      ],
      "execution_count": 10,
      "outputs": [
        {
          "output_type": "stream",
          "text": [
            "torch.Size([72, 100])\n"
          ],
          "name": "stdout"
        }
      ]
    },
    {
      "cell_type": "code",
      "metadata": {
        "id": "rME05Y0TnEVe"
      },
      "source": [
        "class RNN(nn.Module):\n",
        "    def __init__(self, input_size, hidden_size,num_layers):\n",
        "        super(RNN, self).__init__()\n",
        "        self.input_size = input_size\n",
        "        self.hidden_size = hidden_size\n",
        "        self.num_layers = num_layers\n",
        "        self.lstm = nn.LSTM(input_size, hidden_size, num_layers, batch_first=True)\n",
        "        \n",
        "    def forward(self,input,hidden,cell):\n",
        "        output,(hidden,cell) = self.lstm(input,(hidden,cell))\n",
        "        return output,hidden,cell\n",
        "    \n",
        "    def init_hidden_cell(self):\n",
        "        hidden = torch.zeros(num_layers, batch_size, hidden_size)\n",
        "        cell = torch.zeros(num_layers, batch_size, hidden_size)\n",
        "        return hidden,cell\n",
        "    \n",
        "rnn = RNN(input_size,hidden_size, num_layers)"
      ],
      "execution_count": 11,
      "outputs": []
    },
    {
      "cell_type": "code",
      "metadata": {
        "id": "vnJHZEnqnJkc"
      },
      "source": [
        "loss_func = nn.MSELoss()\n",
        "optimizer = torch.optim.Adam(rnn.parameters(),lr = lr)"
      ],
      "execution_count": 13,
      "outputs": []
    },
    {
      "cell_type": "code",
      "metadata": {
        "id": "phskXAF-nPZY",
        "outputId": "148e90ae-c522-438e-ce2e-264b2fe5c15e",
        "colab": {
          "base_uri": "https://localhost:8080/",
          "height": 70
        }
      },
      "source": [
        "j=0\n",
        "input_data = one_hot[j:j+batch_size].view(batch_size,seq_len,input_size)\n",
        "print(input_data.size())\n",
        "\n",
        "hidden,cell = rnn.init_hidden_cell()\n",
        "print(hidden.size(),cell.size())\n",
        "\n",
        "output,hidden,cell = rnn(input_data,hidden,cell)\n",
        "print(output.size(),hidden.size(),cell.size())"
      ],
      "execution_count": 14,
      "outputs": [
        {
          "output_type": "stream",
          "text": [
            "torch.Size([5, 1, 100])\n",
            "torch.Size([3, 5, 100]) torch.Size([3, 5, 100])\n",
            "torch.Size([5, 1, 100]) torch.Size([3, 5, 100]) torch.Size([3, 5, 100])\n"
          ],
          "name": "stdout"
        }
      ]
    },
    {
      "cell_type": "code",
      "metadata": {
        "id": "8wEI06q8nkIC",
        "outputId": "9f6c7b87-64b4-49cf-f502-f86ad6235378",
        "colab": {
          "base_uri": "https://localhost:8080/",
          "height": 193
        }
      },
      "source": [
        "loss_arr = []\n",
        "unroll_len = one_hot.size()[0]//seq_len-1\n",
        "for i in range(num_epochs):\n",
        "  optimizer.zero_grad()\n",
        "  hidden,cell = rnn.init_hidden_cell()\n",
        "\n",
        "  loss = 0\n",
        "  for j in range(unroll_len-batch_size+1):\n",
        "    # batch_size에 맞게 one_hot 벡터를 stack한다.\n",
        "    input_data = torch.stack([one_hot[j+k:j+k+seq_len] for k in range(batch_size)],dim=0)\n",
        "    label = torch.stack([one_hot[j+k+1:j+k+seq_len+1] for k in range(batch_size)],dim=0)\n",
        "\n",
        "    input_data = input_data\n",
        "    label = label\n",
        "\n",
        "    output,hidden,cell = rnn(input_data,hidden,cell)\n",
        "    loss += loss_func(output.view(1,-1),label.view(1,-1))\n",
        "  \n",
        "  loss.backward()\n",
        "  optimizer.step()\n",
        "\n",
        "  if i%100 == 0:\n",
        "    print(loss)\n",
        "    loss_arr.append(loss)"
      ],
      "execution_count": 16,
      "outputs": [
        {
          "output_type": "stream",
          "text": [
            "tensor(0.7942, grad_fn=<AddBackward0>)\n",
            "tensor(0.0153, grad_fn=<AddBackward0>)\n",
            "tensor(0.0132, grad_fn=<AddBackward0>)\n",
            "tensor(0.0131, grad_fn=<AddBackward0>)\n",
            "tensor(0.0130, grad_fn=<AddBackward0>)\n",
            "tensor(0.0130, grad_fn=<AddBackward0>)\n",
            "tensor(0.0129, grad_fn=<AddBackward0>)\n",
            "tensor(0.0129, grad_fn=<AddBackward0>)\n",
            "tensor(0.0129, grad_fn=<AddBackward0>)\n",
            "tensor(0.0129, grad_fn=<AddBackward0>)\n"
          ],
          "name": "stdout"
        }
      ]
    },
    {
      "cell_type": "code",
      "metadata": {
        "id": "1thy9HdvpbKt",
        "outputId": "28339f57-c59a-4138-d636-3f17d0ff89c7",
        "colab": {
          "base_uri": "https://localhost:8080/",
          "height": 282
        }
      },
      "source": [
        "import matplotlib.pyplot as plt\n",
        "plt.plot(loss_arr)"
      ],
      "execution_count": 17,
      "outputs": [
        {
          "output_type": "execute_result",
          "data": {
            "text/plain": [
              "[<matplotlib.lines.Line2D at 0x7fd1b7d4a748>]"
            ]
          },
          "metadata": {
            "tags": []
          },
          "execution_count": 17
        },
        {
          "output_type": "display_data",
          "data": {
            "image/png": "[encoded data removed]",
            "text/plain": [
              "<Figure size 432x288 with 1 Axes>"
            ]
          },
          "metadata": {
            "tags": [],
            "needs_background": "light"
          }
        }
      ]
    },
    {
      "cell_type": "code",
      "metadata": {
        "id": "80SXEQsppq76",
        "outputId": "a3865254-6429-47c7-85d5-fc5f1acbfcc4",
        "colab": {
          "base_uri": "https://localhost:8080/",
          "height": 34
        }
      },
      "source": [
        "hidden,cell = rnn.init_hidden_cell()\n",
        "for j in range(unroll_len - batch_size +1):\n",
        "  input_data = torch.stack([one_hot[j+k:j+k+seq_len] for k in range(batch_size)],dim=0)\n",
        "  label = torch.stack([one_hot[j+k+1:j+k+seq_len+1] for k in range(batch_size)],dim=0)\n",
        "\n",
        "  output,hidden,cell = rnn(input_data,hidden,cell)\n",
        "  for k in range(batch_size):\n",
        "    print(onehot_to_word(output[k].data),end='')\n",
        "    if j < unroll_len-batch_size:\n",
        "      break"
      ],
      "execution_count": 19,
      "outputs": [
        {
          "output_type": "stream",
          "text": [
            "hello pytorch. how long can a rnn cell remember? show mewyour limit ^^\f"
          ],
          "name": "stdout"
        }
      ]
    },
    {
      "cell_type": "code",
      "metadata": {
        "id": "zbK7ok1qqZro"
      },
      "source": [
        ""
      ],
      "execution_count": null,
      "outputs": []
    }
  ]
}