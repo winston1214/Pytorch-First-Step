{
  "nbformat": 4,
  "nbformat_minor": 0,
  "metadata": {
    "colab": {
      "name": "LSTM_char.ipynb",
      "provenance": []
    },
    "kernelspec": {
      "name": "python3",
      "display_name": "Python 3"
    }
  },
  "cells": [
    {
      "cell_type": "code",
      "metadata": {
        "id": "0LTWzCU5JzMM"
      },
      "source": [
        "import torch\n",
        "import torch.nn as nn\n",
        "import torch.optim as optim\n",
        "import numpy as np"
      ],
      "execution_count": 47,
      "outputs": []
    },
    {
      "cell_type": "code",
      "metadata": {
        "id": "8Cfoco4gKaCK",
        "outputId": "633988b5-22ad-480f-dd4e-fe0ba0be7e06",
        "colab": {
          "base_uri": "https://localhost:8080/",
          "height": 34
        }
      },
      "source": [
        "string = 'hello pytorch. how long can a rnn cell remember? show me your limit!'\n",
        "chars = \"abcdefghijklmnopqrstuvwxyz ?!.,:;01\"\n",
        "char_list = [i for i in chars]\n",
        "char_len = len(char_list)\n",
        "print(char_len)"
      ],
      "execution_count": 48,
      "outputs": [
        {
          "output_type": "stream",
          "text": [
            "35\n"
          ],
          "name": "stdout"
        }
      ]
    },
    {
      "cell_type": "code",
      "metadata": {
        "id": "oqKFv30FKjbQ"
      },
      "source": [
        "def string_to_onehot(string):\n",
        "  start = np.zeros(shape = char_len,dtype = int)\n",
        "  end = np.zeros(shape=char_len,dtype=int)\n",
        "  start[-2] = 1\n",
        "  end[-1] = 1\n",
        "  for i in string:\n",
        "    idx = char_list.index(i)\n",
        "    zero = np.zeros(shape = char_len,dtype = int)\n",
        "    zero[idx] = 1\n",
        "    start = np.vstack([start,zero])\n",
        "  output = np.vstack([start,end])\n",
        "  return output"
      ],
      "execution_count": 49,
      "outputs": []
    },
    {
      "cell_type": "code",
      "metadata": {
        "id": "VHwquz7mLsCn"
      },
      "source": [
        "def onehot_to_word(onehot_1):\n",
        "  onehot = torch.Tensor.numpy(onehot_1)\n",
        "  return char_list[onehot.argmax()]"
      ],
      "execution_count": 50,
      "outputs": []
    },
    {
      "cell_type": "code",
      "metadata": {
        "id": "8qCI9XsVMYdZ",
        "outputId": "0019f2a0-38d0-4556-a5ac-c36ce4fdd34f",
        "colab": {
          "base_uri": "https://localhost:8080/",
          "height": 34
        }
      },
      "source": [
        "batch_size = 1\n",
        "seq_len = 1\n",
        "num_layers = 3\n",
        "input_size = char_len\n",
        "hidden_size = 35\n",
        "lr = 0.01\n",
        "num_epochs = 1000\n",
        "one_hot = torch.from_numpy(string_to_onehot(string)).type_as(torch.FloatTensor())\n",
        "\n",
        "print(one_hot.size())"
      ],
      "execution_count": 51,
      "outputs": [
        {
          "output_type": "stream",
          "text": [
            "torch.Size([70, 35])\n"
          ],
          "name": "stdout"
        }
      ]
    },
    {
      "cell_type": "code",
      "metadata": {
        "id": "b7ODlzaCaRjb"
      },
      "source": [
        "class RNN(nn.Module):\n",
        "  def __init__(self,input_size,hidden_size,num_layers):\n",
        "    super(RNN,self).__init__()\n",
        "    self.input_size = input_size\n",
        "    self.hidden_size = hidden_size\n",
        "    self.num_layers = num_layers\n",
        "    self.lstm = nn.LSTM(input_size,hidden_size,num_layers)\n",
        "\n",
        "  def forward(self,input_,hidden,cell):\n",
        "    output,(hidden,cell) = self.lstm(input_,(hidden,cell))\n",
        "    return output,hidden,cell\n",
        "    \n",
        "  def init_hidden_cell(self):\n",
        "    hidden = torch.zeros(num_layers,batch_size,hidden_size)\n",
        "    cell = torch.zeros(num_layers,batch_size,hidden_size)\n",
        "    return hidden,cell\n",
        "  \n",
        "rnn = RNN(input_size,hidden_size,num_layers)"
      ],
      "execution_count": 52,
      "outputs": []
    },
    {
      "cell_type": "code",
      "metadata": {
        "id": "bEVhIsXvd2Wf"
      },
      "source": [
        "loss_func = nn.MSELoss()\n",
        "optimizer = torch.optim.Adam(rnn.parameters(),lr=lr)"
      ],
      "execution_count": 53,
      "outputs": []
    },
    {
      "cell_type": "code",
      "metadata": {
        "id": "hJKA1ZQQd9sY",
        "outputId": "b0193d9f-f4f7-487a-be98-e14c488ef7fd",
        "colab": {
          "base_uri": "https://localhost:8080/",
          "height": 70
        }
      },
      "source": [
        "j = 0\n",
        "input_data = one_hot[j:j+seq_len].view(seq_len,batch_size,input_size)\n",
        "print(input_data.size())\n",
        "\n",
        "hidden,cell = rnn.init_hidden_cell()\n",
        "print(hidden.size(),cell.size())\n",
        "\n",
        "output,hidden,cell = rnn(input_data,hidden,cell)\n",
        "print(output.size(),hidden.size(),cell.size())"
      ],
      "execution_count": 54,
      "outputs": [
        {
          "output_type": "stream",
          "text": [
            "torch.Size([1, 1, 35])\n",
            "torch.Size([3, 1, 35]) torch.Size([3, 1, 35])\n",
            "torch.Size([1, 1, 35]) torch.Size([3, 1, 35]) torch.Size([3, 1, 35])\n"
          ],
          "name": "stdout"
        }
      ]
    },
    {
      "cell_type": "code",
      "metadata": {
        "id": "pKqOEuH8eTAA",
        "outputId": "a7ffe135-c5fe-46d7-e2c8-58e382075735",
        "colab": {
          "base_uri": "https://localhost:8080/",
          "height": 193
        }
      },
      "source": [
        "loss_arr = []\n",
        "unroll_len = one_hot.size()[0]//seq_len-1\n",
        "for i in range(num_epochs):\n",
        "  hidden,cell = rnn.init_hidden_cell()\n",
        "  loss = 0\n",
        "  \n",
        "  for j in range(unroll_len):\n",
        "    input_data = one_hot[j:j+seq_len].view(seq_len,batch_size,input_size)\n",
        "    label = one_hot[j+1:j+seq_len+1].view(seq_len,batch_size,input_size)\n",
        "\n",
        "    optimizer.zero_grad()\n",
        "\n",
        "    output,hidden,cell = rnn(input_data,hidden,cell)\n",
        "    loss += loss_func(output.view(1,-1),label.view(1,-1))\n",
        "  \n",
        "  loss.backward()\n",
        "  optimizer.step()\n",
        "\n",
        "  if i%100 == 0:\n",
        "    print(loss)\n",
        "    loss_arr.append(loss)"
      ],
      "execution_count": 55,
      "outputs": [
        {
          "output_type": "stream",
          "text": [
            "tensor(2.1665, grad_fn=<AddBackward0>)\n",
            "tensor(0.0696, grad_fn=<AddBackward0>)\n",
            "tensor(0.0090, grad_fn=<AddBackward0>)\n",
            "tensor(0.0046, grad_fn=<AddBackward0>)\n",
            "tensor(0.0031, grad_fn=<AddBackward0>)\n",
            "tensor(0.0026, grad_fn=<AddBackward0>)\n",
            "tensor(0.0024, grad_fn=<AddBackward0>)\n",
            "tensor(0.0022, grad_fn=<AddBackward0>)\n",
            "tensor(0.0021, grad_fn=<AddBackward0>)\n",
            "tensor(0.0020, grad_fn=<AddBackward0>)\n"
          ],
          "name": "stdout"
        }
      ]
    },
    {
      "cell_type": "code",
      "metadata": {
        "id": "0oYCaeQje-Wz",
        "outputId": "eccd8ed0-8e81-4bb9-be23-0f56f7204731",
        "colab": {
          "base_uri": "https://localhost:8080/",
          "height": 282
        }
      },
      "source": [
        "import matplotlib.pyplot as plt\n",
        "plt.plot(loss_arr)"
      ],
      "execution_count": 56,
      "outputs": [
        {
          "output_type": "execute_result",
          "data": {
            "text/plain": [
              "[<matplotlib.lines.Line2D at 0x7f07f3b77dd8>]"
            ]
          },
          "metadata": {
            "tags": []
          },
          "execution_count": 56
        },
        {
          "output_type": "display_data",
          "data": {
            "image/png": "[encoded data removed]",
            "text/plain": [
              "<Figure size 432x288 with 1 Axes>"
            ]
          },
          "metadata": {
            "tags": [],
            "needs_background": "light"
          }
        }
      ]
    },
    {
      "cell_type": "code",
      "metadata": {
        "id": "WoS88aA4hU-0",
        "outputId": "31a21b6f-aab8-4d03-c812-6fda41261778",
        "colab": {
          "base_uri": "https://localhost:8080/",
          "height": 34
        }
      },
      "source": [
        "hidden,cell = rnn.init_hidden_cell()\n",
        "\n",
        "for j in range(unroll_len-1):\n",
        "    input_data = one_hot[j:j+1].view(1,batch_size,hidden_size) \n",
        "    label = one_hot[j+1:j+1+1].view(1,batch_size,hidden_size) \n",
        "    \n",
        "    output, hidden, cell = rnn(input_data,hidden,cell)\n",
        "    print(onehot_to_word(output.data),end=\"\") "
      ],
      "execution_count": 57,
      "outputs": [
        {
          "output_type": "stream",
          "text": [
            "hello pytorch. how long can a rnn cell remember? show me your limit!"
          ],
          "name": "stdout"
        }
      ]
    }
  ]
}