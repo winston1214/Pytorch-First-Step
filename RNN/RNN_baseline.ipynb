{
  "nbformat": 4,
  "nbformat_minor": 0,
  "metadata": {
    "colab": {
      "name": "RNN_baseline.ipynb",
      "provenance": []
    },
    "kernelspec": {
      "name": "python3",
      "display_name": "Python 3"
    }
  },
  "cells": [
    {
      "cell_type": "code",
      "metadata": {
        "id": "QxKkvKK3Of8v",
        "colab_type": "code",
        "colab": {}
      },
      "source": [
        "import torch\n",
        "import torch.nn as nn\n",
        "import torch.optim as optim\n",
        "import numpy as np"
      ],
      "execution_count": 1,
      "outputs": []
    },
    {
      "cell_type": "code",
      "metadata": {
        "id": "EPpNtSatOpCa",
        "colab_type": "code",
        "colab": {}
      },
      "source": [
        "n_hidden = 35 # len(chars)\n",
        "lr = 0.01\n",
        "epochs = 1000"
      ],
      "execution_count": 2,
      "outputs": []
    },
    {
      "cell_type": "code",
      "metadata": {
        "id": "MeRxSuqSOufZ",
        "colab_type": "code",
        "colab": {}
      },
      "source": [
        "\n",
        "string = \"hello pytorch. how long can a rnn cell remember? show me your limit!\"\n",
        "chars =  \"abcdefghijklmnopqrstuvwxyz ?!.,:;01\"\n",
        "\n",
        "char_list = [i for i in chars]\n",
        "n_letters = len(char_list)"
      ],
      "execution_count": 3,
      "outputs": []
    },
    {
      "cell_type": "code",
      "metadata": {
        "id": "BiXEiFRWPF0G",
        "colab_type": "code",
        "colab": {}
      },
      "source": [
        "def string_to_onehot(string):\n",
        "    start = np.zeros(shape=n_letters ,dtype=int)\n",
        "    end = np.zeros(shape=n_letters ,dtype=int)\n",
        "    start[-2] = 1 # start tocken\n",
        "    end[-1] = 1 # end tocken\n",
        "    for i in string:\n",
        "        idx = char_list.index(i)\n",
        "        zero = np.zeros(shape=n_letters ,dtype=int)\n",
        "        zero[idx]=1\n",
        "        start = np.vstack([start,zero])\n",
        "    output = np.vstack([start,end])\n",
        "    return output"
      ],
      "execution_count": 4,
      "outputs": []
    },
    {
      "cell_type": "code",
      "metadata": {
        "id": "ko4qZY94Qybs",
        "colab_type": "code",
        "colab": {}
      },
      "source": [
        "def onehot_to_word(onehot_1):\n",
        "    onehot = torch.Tensor.numpy(onehot_1)\n",
        "    return char_list[onehot.argmax()]"
      ],
      "execution_count": 5,
      "outputs": []
    },
    {
      "cell_type": "code",
      "metadata": {
        "id": "uBuLxt5ERA20",
        "colab_type": "code",
        "colab": {}
      },
      "source": [
        "# RNN with 1 hidden layer\n",
        "\n",
        "class RNN(nn.Module):\n",
        "    def __init__(self, input_size, hidden_size, output_size):\n",
        "        super(RNN, self).__init__()\n",
        "        \n",
        "        self.input_size = input_size\n",
        "        self.hidden_size = hidden_size\n",
        "        self.output_size = output_size\n",
        "        \n",
        "        self.i2h = nn.Linear(input_size + hidden_size, hidden_size) # input->hidden\n",
        "        self.i2o = nn.Linear(input_size + hidden_size, output_size) # input->output\n",
        "        self.act_fn = nn.Tanh()\n",
        "    \n",
        "    def forward(self, input, hidden):\n",
        "        # 입력과 hidden state를 cat함수로 붙여줍니다.\n",
        "        combined = torch.cat((input, hidden), 1)# hidden state는 업데이트, 결과값은 계산해줍니다.\n",
        "        hidden = self.act_fn(self.i2h(combined))\n",
        "        output = self.i2o(combined)\n",
        "        return output, hidden\n",
        "     \n",
        "    def init_hidden(self):\n",
        "        return torch.zeros(1, self.hidden_size)\n",
        "    \n",
        "rnn = RNN(n_letters, n_hidden, n_letters)"
      ],
      "execution_count": 6,
      "outputs": []
    },
    {
      "cell_type": "code",
      "metadata": {
        "id": "qpr37hu1T8bD",
        "colab_type": "code",
        "colab": {}
      },
      "source": [
        "loss_func = nn.MSELoss() # Mean Squraed Error\n",
        "optimizer = torch.optim.Adam(rnn.parameters(),lr = lr)"
      ],
      "execution_count": 7,
      "outputs": []
    },
    {
      "cell_type": "code",
      "metadata": {
        "id": "Rf2IZSR5ULKi",
        "colab_type": "code",
        "colab": {
          "base_uri": "https://localhost:8080/",
          "height": 193
        },
        "outputId": "64281d1b-2ca9-46cf-ddc5-d6c4ed2f9229"
      },
      "source": [
        "\n",
        "one_hot = torch.from_numpy(string_to_onehot(string)).type_as(torch.FloatTensor())\n",
        "loss_arr=[]\n",
        "for i in range(epochs):\n",
        "    optimizer.zero_grad()\n",
        "    \n",
        "    hidden = rnn.init_hidden()\n",
        "    total_loss = 0\n",
        "    for j in range(one_hot.size()[0]-1):\n",
        "\n",
        "        input_ = one_hot[j:j+1,:] # 앞에 글자\n",
        "        target = one_hot[j+1] # 뒤에 글자\n",
        "        output, hidden = rnn.forward(input_, hidden)\n",
        "        \n",
        "        loss = loss_func(output.view(-1),target.view(-1))\n",
        "        total_loss += loss\n",
        "        loss_arr.append(total_loss)\n",
        "\n",
        "    total_loss.backward()\n",
        "    optimizer.step()\n",
        "\n",
        "    if i % 100 == 0:\n",
        "        print(total_loss)"
      ],
      "execution_count": 8,
      "outputs": [
        {
          "output_type": "stream",
          "text": [
            "tensor(2.5222, grad_fn=<AddBackward0>)\n",
            "tensor(0.0608, grad_fn=<AddBackward0>)\n",
            "tensor(0.0225, grad_fn=<AddBackward0>)\n",
            "tensor(0.0140, grad_fn=<AddBackward0>)\n",
            "tensor(0.0088, grad_fn=<AddBackward0>)\n",
            "tensor(0.0064, grad_fn=<AddBackward0>)\n",
            "tensor(0.0067, grad_fn=<AddBackward0>)\n",
            "tensor(0.0035, grad_fn=<AddBackward0>)\n",
            "tensor(0.0047, grad_fn=<AddBackward0>)\n",
            "tensor(0.0022, grad_fn=<AddBackward0>)\n"
          ],
          "name": "stdout"
        }
      ]
    },
    {
      "cell_type": "code",
      "metadata": {
        "id": "E9Immp9Oj3AV",
        "colab_type": "code",
        "colab": {
          "base_uri": "https://localhost:8080/",
          "height": 282
        },
        "outputId": "03113597-f8de-4f2d-d882-596795a7f3d0"
      },
      "source": [
        "import matplotlib.pyplot as plt\n",
        "plt.plot(loss_arr)"
      ],
      "execution_count": 9,
      "outputs": [
        {
          "output_type": "execute_result",
          "data": {
            "text/plain": [
              "[<matplotlib.lines.Line2D at 0x7f52850b7a20>]"
            ]
          },
          "metadata": {
            "tags": []
          },
          "execution_count": 9
        },
        {
          "output_type": "display_data",
          "data": {
            "image/png": "[encoded data removed]",
            "text/plain": [
              "<Figure size 432x288 with 1 Axes>"
            ]
          },
          "metadata": {
            "tags": [],
            "needs_background": "light"
          }
        }
      ]
    },
    {
      "cell_type": "code",
      "metadata": {
        "id": "Rx8UxWLRWgD1",
        "colab_type": "code",
        "colab": {
          "base_uri": "https://localhost:8080/",
          "height": 34
        },
        "outputId": "c4a59b16-b970-4ba7-ebc8-866f34dd9d97"
      },
      "source": [
        "\n",
        "start = torch.zeros(1,n_letters)\n",
        "start[:,-2] = 1\n",
        "\n",
        "with torch.no_grad():\n",
        "    hidden = rnn.init_hidden()\n",
        "\n",
        "    input_ = start\n",
        "    output_string = \"\"\n",
        "\n",
        "    for i in range(len(string)):\n",
        "        output, hidden = rnn.forward(input_, hidden)\n",
        "        output_string += onehot_to_word(output.data)\n",
        "        input_ = output\n",
        "\n",
        "print(output_string)"
      ],
      "execution_count": 10,
      "outputs": [
        {
          "output_type": "stream",
          "text": [
            "hello pytorgor nr ca ronemne onong oahlr oa e y pry gyoc lono oggeml\n"
          ],
          "name": "stdout"
        }
      ]
    }
  ]
}