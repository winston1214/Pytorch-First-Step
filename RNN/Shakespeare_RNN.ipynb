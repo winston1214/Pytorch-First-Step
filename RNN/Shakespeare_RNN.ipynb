{
  "nbformat": 4,
  "nbformat_minor": 0,
  "metadata": {
    "colab": {
      "name": "Shakespeare RNN.ipynb",
      "provenance": []
    },
    "kernelspec": {
      "name": "python3",
      "display_name": "Python 3"
    }
  },
  "cells": [
    {
      "cell_type": "markdown",
      "metadata": {
        "id": "zkcltaEmc6Q6",
        "colab_type": "text"
      },
      "source": [
        "### Data Loading"
      ]
    },
    {
      "cell_type": "code",
      "metadata": {
        "id": "mqrqTzYEcQpF",
        "colab_type": "code",
        "colab": {
          "base_uri": "https://localhost:8080/",
          "height": 228
        },
        "outputId": "117cf79b-1216-45ac-de04-f976fdea5b9d"
      },
      "source": [
        "!rm -r data\n",
        "import os\n",
        "try:\n",
        "  os.mkdir('./data')\n",
        "except:\n",
        "  pass\n",
        "\n",
        "!wget https://raw.githubusercontent.com/dmlc/web-data/master/mxnet/tinyshakespeare/input.txt -P ./data"
      ],
      "execution_count": 1,
      "outputs": [
        {
          "output_type": "stream",
          "text": [
            "rm: cannot remove 'data': No such file or directory\n",
            "--2020-09-14 11:50:12--  https://raw.githubusercontent.com/dmlc/web-data/master/mxnet/tinyshakespeare/input.txt\n",
            "Resolving raw.githubusercontent.com (raw.githubusercontent.com)... 151.101.0.133, 151.101.64.133, 151.101.128.133, ...\n",
            "Connecting to raw.githubusercontent.com (raw.githubusercontent.com)|151.101.0.133|:443... connected.\n",
            "HTTP request sent, awaiting response... 200 OK\n",
            "Length: 1115394 (1.1M) [text/plain]\n",
            "Saving to: ‘./data/input.txt’\n",
            "\n",
            "input.txt           100%[===================>]   1.06M  --.-KB/s    in 0.04s   \n",
            "\n",
            "2020-09-14 11:50:13 (23.8 MB/s) - ‘./data/input.txt’ saved [1115394/1115394]\n",
            "\n"
          ],
          "name": "stdout"
        }
      ]
    },
    {
      "cell_type": "code",
      "metadata": {
        "id": "__k764ctc2cv",
        "colab_type": "code",
        "colab": {}
      },
      "source": [
        "import torch\n",
        "import torch.nn as nn"
      ],
      "execution_count": 2,
      "outputs": []
    },
    {
      "cell_type": "code",
      "metadata": {
        "id": "hJ-q1LCldCEh",
        "colab_type": "code",
        "colab": {
          "base_uri": "https://localhost:8080/",
          "height": 105
        },
        "outputId": "86bbff16-c24c-491c-dde0-de2795910b32"
      },
      "source": [
        "!pip install unidecode"
      ],
      "execution_count": 3,
      "outputs": [
        {
          "output_type": "stream",
          "text": [
            "Collecting unidecode\n",
            "\u001b[?25l  Downloading https://files.pythonhosted.org/packages/d0/42/d9edfed04228bacea2d824904cae367ee9efd05e6cce7ceaaedd0b0ad964/Unidecode-1.1.1-py2.py3-none-any.whl (238kB)\n",
            "\r\u001b[K     |█▍                              | 10kB 17.1MB/s eta 0:00:01\r\u001b[K     |██▊                             | 20kB 2.8MB/s eta 0:00:01\r\u001b[K     |████▏                           | 30kB 3.5MB/s eta 0:00:01\r\u001b[K     |█████▌                          | 40kB 3.8MB/s eta 0:00:01\r\u001b[K     |██████▉                         | 51kB 3.2MB/s eta 0:00:01\r\u001b[K     |████████▎                       | 61kB 3.6MB/s eta 0:00:01\r\u001b[K     |█████████▋                      | 71kB 3.8MB/s eta 0:00:01\r\u001b[K     |███████████                     | 81kB 4.2MB/s eta 0:00:01\r\u001b[K     |████████████▍                   | 92kB 4.4MB/s eta 0:00:01\r\u001b[K     |█████████████▊                  | 102kB 4.3MB/s eta 0:00:01\r\u001b[K     |███████████████▏                | 112kB 4.3MB/s eta 0:00:01\r\u001b[K     |████████████████▌               | 122kB 4.3MB/s eta 0:00:01\r\u001b[K     |█████████████████▉              | 133kB 4.3MB/s eta 0:00:01\r\u001b[K     |███████████████████▎            | 143kB 4.3MB/s eta 0:00:01\r\u001b[K     |████████████████████▋           | 153kB 4.3MB/s eta 0:00:01\r\u001b[K     |██████████████████████          | 163kB 4.3MB/s eta 0:00:01\r\u001b[K     |███████████████████████▍        | 174kB 4.3MB/s eta 0:00:01\r\u001b[K     |████████████████████████▊       | 184kB 4.3MB/s eta 0:00:01\r\u001b[K     |██████████████████████████▏     | 194kB 4.3MB/s eta 0:00:01\r\u001b[K     |███████████████████████████▌    | 204kB 4.3MB/s eta 0:00:01\r\u001b[K     |████████████████████████████▉   | 215kB 4.3MB/s eta 0:00:01\r\u001b[K     |██████████████████████████████▎ | 225kB 4.3MB/s eta 0:00:01\r\u001b[K     |███████████████████████████████▋| 235kB 4.3MB/s eta 0:00:01\r\u001b[K     |████████████████████████████████| 245kB 4.3MB/s \n",
            "\u001b[?25hInstalling collected packages: unidecode\n",
            "Successfully installed unidecode-1.1.1\n"
          ],
          "name": "stdout"
        }
      ]
    },
    {
      "cell_type": "code",
      "metadata": {
        "id": "7FW2vgUddESN",
        "colab_type": "code",
        "colab": {}
      },
      "source": [
        "import unidecode\n",
        "import string\n",
        "import random\n",
        "import re\n",
        "import time,math"
      ],
      "execution_count": 4,
      "outputs": []
    },
    {
      "cell_type": "code",
      "metadata": {
        "id": "c7U_k_0CdK9W",
        "colab_type": "code",
        "colab": {}
      },
      "source": [
        "num_epochs = 2000\n",
        "print_every = 100\n",
        "plot_every = 10\n",
        "chunk_len = 200\n",
        "hidden_size = 100\n",
        "batch_size = 1\n",
        "num_layers = 1\n",
        "embedding_size = 70\n",
        "lr = 0.002"
      ],
      "execution_count": 5,
      "outputs": []
    },
    {
      "cell_type": "code",
      "metadata": {
        "id": "4ZF5G47fdZu2",
        "colab_type": "code",
        "colab": {
          "base_uri": "https://localhost:8080/",
          "height": 70
        },
        "outputId": "8c220aa5-cbcf-4a9a-d324-d131647617e4"
      },
      "source": [
        "all_characters = string.printable # 출력 가능한 모든 문자 불러오기\n",
        "n_characters = len(all_characters)\n",
        "print(all_characters)\n",
        "print(n_characters)"
      ],
      "execution_count": 6,
      "outputs": [
        {
          "output_type": "stream",
          "text": [
            "0123456789abcdefghijklmnopqrstuvwxyzABCDEFGHIJKLMNOPQRSTUVWXYZ!\"#$%&'()*+,-./:;<=>?@[\\]^_`{|}~ \t\n",
            "\r\u000b\f\n",
            "100\n"
          ],
          "name": "stdout"
        }
      ]
    },
    {
      "cell_type": "code",
      "metadata": {
        "id": "6UGru1ITdqqs",
        "colab_type": "code",
        "colab": {
          "base_uri": "https://localhost:8080/",
          "height": 34
        },
        "outputId": "bf163b10-ba52-4990-ed1b-4d4c7d382778"
      },
      "source": [
        "file = unidecode.unidecode(open('./data/input.txt').read())\n",
        "file_len = len(file)\n",
        "print('file_len = ',file_len)"
      ],
      "execution_count": 7,
      "outputs": [
        {
          "output_type": "stream",
          "text": [
            "file_len =  1115394\n"
          ],
          "name": "stdout"
        }
      ]
    },
    {
      "cell_type": "code",
      "metadata": {
        "id": "yX0qAvt9d3qx",
        "colab_type": "code",
        "colab": {
          "base_uri": "https://localhost:8080/",
          "height": 158
        },
        "outputId": "137da5b9-882e-4990-ae0f-2d065ef26c78"
      },
      "source": [
        "# txt 파일의 일부분을 랜덤하게 불러오기\n",
        "def random_chunk():\n",
        "  start_index = random.randint(0,file_len - chunk_len) # 시작 지점 설정\n",
        "  end_index = start_index + chunk_len +1\n",
        "  return file[start_index:end_index]\n",
        "\n",
        "print(random_chunk())"
      ],
      "execution_count": 9,
      "outputs": [
        {
          "output_type": "stream",
          "text": [
            " I have to love thee\n",
            "Doth much excuse the appertaining rage\n",
            "To such a greeting: villain am I none;\n",
            "Therefore farewell; I see thou know'st me not.\n",
            "\n",
            "TYBALT:\n",
            "Boy, this shall not excuse the injuries\n",
            "That t\n"
          ],
          "name": "stdout"
        }
      ]
    },
    {
      "cell_type": "code",
      "metadata": {
        "id": "oj_4G-Wsf2F-",
        "colab_type": "code",
        "colab": {
          "base_uri": "https://localhost:8080/",
          "height": 34
        },
        "outputId": "d11fdb5f-1b77-4361-ffe9-2073384a8f19"
      },
      "source": [
        "# ch -> tensor\n",
        "def char_tensor(string):\n",
        "  tensor = torch.zeros(len(string)).long()\n",
        "  for c in range(len(string)):\n",
        "    tensor[c] = all_characters.index(string[c])\n",
        "  return tensor\n",
        "print(char_tensor('ABCdef'))"
      ],
      "execution_count": 10,
      "outputs": [
        {
          "output_type": "stream",
          "text": [
            "tensor([36, 37, 38, 13, 14, 15])\n"
          ],
          "name": "stdout"
        }
      ]
    },
    {
      "cell_type": "code",
      "metadata": {
        "id": "iz9oQVyQgQU5",
        "colab_type": "code",
        "colab": {}
      },
      "source": [
        "# 랜덤한 텍스트를 불러와서 입력값과 목표값으로 바꿔주는 함수\n",
        "def random_training_set():\n",
        "  chunk = random_chunk()\n",
        "  inp = char_tensor(chunk[:-1])\n",
        "  target = char_tensor(chunk[1:])\n",
        "  return inp,target"
      ],
      "execution_count": 11,
      "outputs": []
    },
    {
      "cell_type": "code",
      "metadata": {
        "id": "nHCrLApohXwu",
        "colab_type": "code",
        "colab": {}
      },
      "source": [
        "class RNN(nn.Module):\n",
        "  def __init__(self,input_size,embedding_size,hidden_size,output_size,num_layers = 1):\n",
        "    super(RNN,self).__init__()\n",
        "    self.input_size = input_size\n",
        "    self.embedding_size = embedding_size\n",
        "    self.hidden_size = hidden_size\n",
        "    self.output_size = output_size\n",
        "    self.num_layers = num_layers\n",
        "    \n",
        "    self.encoder = nn.Embedding(self.input_size,self.embedding_size)\n",
        "    self.rnn = nn.RNN(self.embedding_size,self.hidden_size,self.num_layers)\n",
        "    self.decoder = nn.Linear(self.hidden_size,self.output_size)\n",
        "  \n",
        "  def forward(self,input,hidden):\n",
        "    out = self.encoder(input.view(1,-1))\n",
        "    out,hidden = self.rnn(out,hidden)\n",
        "    out = self.decoder(out.view(batch_size,-1))\n",
        "    return out,hidden\n",
        "  \n",
        "  def init_hidden(self):\n",
        "    hidden = torch.zeros(self.num_layers,batch_size,self.hidden_size)\n",
        "    return hidden\n",
        "  \n",
        "model = RNN(n_characters,embedding_size,hidden_size,n_characters,num_layers)"
      ],
      "execution_count": 21,
      "outputs": []
    },
    {
      "cell_type": "code",
      "metadata": {
        "id": "r4wb-o6jpVnh",
        "colab_type": "code",
        "colab": {}
      },
      "source": [
        "model = RNN(input_size = n_characters,\n",
        "            embedding_size = embedding_size,\n",
        "            hidden_size = hidden_size,\n",
        "            output_size = n_characters,\n",
        "            num_layers = 2)"
      ],
      "execution_count": 22,
      "outputs": []
    },
    {
      "cell_type": "code",
      "metadata": {
        "id": "kcFH7JuCphsJ",
        "colab_type": "code",
        "colab": {
          "base_uri": "https://localhost:8080/",
          "height": 70
        },
        "outputId": "b5b6adf5-7c57-4cca-9a1b-79ed02eec0c7"
      },
      "source": [
        "# test\n",
        "inp = char_tensor('A')\n",
        "print(inp)\n",
        "hidden = model.init_hidden()\n",
        "print(hidden.size())\n",
        "out,hidden = model(inp,hidden)\n",
        "print(out.size())"
      ],
      "execution_count": 23,
      "outputs": [
        {
          "output_type": "stream",
          "text": [
            "tensor([36])\n",
            "torch.Size([2, 1, 100])\n",
            "torch.Size([1, 100])\n"
          ],
          "name": "stdout"
        }
      ]
    },
    {
      "cell_type": "code",
      "metadata": {
        "id": "fWHaR990ps4a",
        "colab_type": "code",
        "colab": {}
      },
      "source": [
        "optimizer = torch.optim.Adam(model.parameters(),lr = lr)\n",
        "loss_func = nn.CrossEntropyLoss()"
      ],
      "execution_count": 24,
      "outputs": []
    },
    {
      "cell_type": "code",
      "metadata": {
        "id": "BbqsOn6Cp_gc",
        "colab_type": "code",
        "colab": {}
      },
      "source": [
        "def test():\n",
        "  start_str = 'b'\n",
        "  inp = char_tensor(start_str)\n",
        "  hidden = model.init_hidden()\n",
        "  x = inp\n",
        "\n",
        "  print(start_str,end = '')\n",
        "  for i in range(200):\n",
        "    output,hidden = model(x,hidden)\n",
        "    output_dist = output.data.view(-1).div(0.8).exp()\n",
        "    top_i = torch.multinomial(output_dist,1)[0] # 높은 값을 가지는 문자들 중 랜덤하게 추출\n",
        "    predicted_char = all_characters[top_i]\n",
        "\n",
        "    print(predicted_char,end='')\n",
        "\n",
        "    x= char_tensor(predicted_char)"
      ],
      "execution_count": 27,
      "outputs": []
    },
    {
      "cell_type": "code",
      "metadata": {
        "id": "4LPwrhqMxed_",
        "colab_type": "code",
        "colab": {
          "base_uri": "https://localhost:8080/",
          "height": 633
        },
        "outputId": "d9250d89-5f54-4047-f4ad-03bf60f4a979"
      },
      "source": [
        "# train\n",
        "for i in range(num_epochs):\n",
        "  inp,label = random_training_set()\n",
        "  hidden = model.init_hidden()\n",
        "  \n",
        "  loss = torch.tensor([0]).type(torch.FloatTensor)\n",
        "  optimizer.zero_grad()\n",
        "  for j in range(chunk_len-1):\n",
        "    x = inp[j]\n",
        "    y_ = label[j].unsqueeze(0).type(torch.LongTensor)\n",
        "    y,hidden = model(x,hidden)\n",
        "    loss +=loss_func(y,y_)\n",
        "  \n",
        "  loss.backward()\n",
        "  optimizer.step()\n",
        "\n",
        "  if i % 500 == 0:\n",
        "    print('\\n',loss/chunk_len,'\\n')\n",
        "    test()\n",
        "    print('\\n','='*100)"
      ],
      "execution_count": 28,
      "outputs": [
        {
          "output_type": "stream",
          "text": [
            "\n",
            " tensor([4.4868], grad_fn=<DivBackward0>) \n",
            "\n",
            "bYJpp{*3]+}Y\\vPr i\\J5dUy]7]\tsu'mf2c\r0hT}fEe\t3Bx[ZRl)\n",
            "v+&r>B~u;|U7o^.k(o5d6kCz-._9DQf/lX2<QPFQ{Hm(9.q8i9#w6|X\n",
            "VEa\u000blv!@7d\f1=^\u000bbQ!F}yJpOqz[zExs*%EQ}D|sZC3 c=-^yJmX0q,@mf@If}az#[BW\\{n\rIlOxD]'%ZK/[TYPtPYT\ru\n",
            " ====================================================================================================\n",
            "\n",
            " tensor([2.0163], grad_fn=<DivBackward0>) \n",
            "\n",
            "ble to brow ot row a bejoy of to were pour porben, this bland, shy will gove mans arme heese overy hone, blow, of have bowe wimy of doin, we est\n",
            "And in that but themes to so oxpwight ess broming bast s\n",
            " ====================================================================================================\n",
            "\n",
            " tensor([1.7002], grad_fn=<DivBackward0>) \n",
            "\n",
            "bod must the it made my master me of made por mide souper\n",
            "And strobe the ore preavind that her think beed ente, go me my bine of my me moth with be the bone moward the thible her\n",
            "God is that to make mu\n",
            " ====================================================================================================\n",
            "\n",
            " tensor([1.6802], grad_fn=<DivBackward0>) \n",
            "\n",
            "banth!\n",
            "\n",
            "ANGLLO:\n",
            "What dock agoth the gresert! Reives seaves fat his upon my lord in you:\n",
            "\n",
            "RORCI:\n",
            "Hoth,--\n",
            "As not out sean?\n",
            "\n",
            "MARIA:\n",
            "I whow thy their love speak sulfove beas this and that are fathing a dre\n",
            " ====================================================================================================\n"
          ],
          "name": "stdout"
        }
      ]
    },
    {
      "cell_type": "code",
      "metadata": {
        "id": "vjJDYv8Dyizo",
        "colab_type": "code",
        "colab": {}
      },
      "source": [
        ""
      ],
      "execution_count": null,
      "outputs": []
    }
  ]
}