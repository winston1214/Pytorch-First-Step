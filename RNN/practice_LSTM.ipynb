{
  "nbformat": 4,
  "nbformat_minor": 0,
  "metadata": {
    "colab": {
      "name": "practice LSTM.ipynb",
      "provenance": []
    },
    "kernelspec": {
      "name": "python3",
      "display_name": "Python 3"
    }
  },
  "cells": [
    {
      "cell_type": "code",
      "metadata": {
        "id": "ITslTGULoZTg"
      },
      "source": [
        "import torch\n",
        "import torch.nn as nn"
      ],
      "execution_count": 1,
      "outputs": []
    },
    {
      "cell_type": "code",
      "metadata": {
        "id": "XDW67r7wognR",
        "outputId": "52b84f6d-1a77-45a0-a7d7-90feff493c26",
        "colab": {
          "base_uri": "https://localhost:8080/",
          "height": 34
        }
      },
      "source": [
        "rnn = nn.LSTM(input_size = 3,hidden_size = 5,num_layers = 2)\n",
        "input_ = torch.randn(5,3,3) # seq_len,batch,input_size\n",
        "\n",
        "h0 = torch.randn(2,3,5) # hidden (num_layers * num_directions, batch, hidden_size)\n",
        "c0 = torch.randn(2,3,5) # cell state\n",
        "\n",
        "output,(hidden_state,cell_state) = rnn(input_,(h0,c0)) # tuple type으로 전달\n",
        "print(output.size(),hidden_state.size(),cell_state.size())"
      ],
      "execution_count": 2,
      "outputs": [
        {
          "output_type": "stream",
          "text": [
            "torch.Size([5, 3, 5]) torch.Size([2, 3, 5]) torch.Size([2, 3, 5])\n"
          ],
          "name": "stdout"
        }
      ]
    },
    {
      "cell_type": "code",
      "metadata": {
        "id": "-vKPgUN2qdJl",
        "outputId": "4f2e3acb-5d9c-47d0-c520-dbea07bbebdf",
        "colab": {
          "base_uri": "https://localhost:8080/",
          "height": 52
        }
      },
      "source": [
        "rnn = nn.LSTM(3,5,2,batch_first = True)\n",
        "\n",
        "input_ = torch.randn(3,5,3) # batch,seq,feature\n",
        "\n",
        "h0 = torch.randn(2,3,5)\n",
        "c0 = torch.randn(2,3,5)\n",
        "\n",
        "output,(hidden_state,cell_state) = rnn(input_,(h0,c0))\n",
        "\n",
        "print(input_.size(),h0.size(),c0.size())\n",
        "print(output.size(),hidden_state.size(),cell_state.size())"
      ],
      "execution_count": 3,
      "outputs": [
        {
          "output_type": "stream",
          "text": [
            "torch.Size([3, 5, 3]) torch.Size([2, 3, 5]) torch.Size([2, 3, 5])\n",
            "torch.Size([3, 5, 5]) torch.Size([2, 3, 5]) torch.Size([2, 3, 5])\n"
          ],
          "name": "stdout"
        }
      ]
    },
    {
      "cell_type": "code",
      "metadata": {
        "id": "a2WydtQwsIlh",
        "outputId": "70694a9b-342a-4a29-f8d8-1a800018245d",
        "colab": {
          "base_uri": "https://localhost:8080/",
          "height": 52
        }
      },
      "source": [
        "input_size = 7\n",
        "batch_size = 4\n",
        "hidden_size = 3\n",
        "seq_len = 2\n",
        "\n",
        "rnn = nn.LSTM(input_size, hidden_size, seq_len, batch_first=True)\n",
        "\n",
        "input_ = torch.randn(batch_size, hidden_size, input_size)\n",
        "h0 = torch.randn(seq_len, batch_size, hidden_size)\n",
        "c0 = torch.randn(seq_len, batch_size, hidden_size)\n",
        "\n",
        "output, (hidden_state, cell_state) = rnn(input_, (h0, c0))\n",
        "\n",
        "print(input_.size(),h0.size(),c0.size())\n",
        "print(output.size(),hidden_state.size(),cell_state.size())"
      ],
      "execution_count": 4,
      "outputs": [
        {
          "output_type": "stream",
          "text": [
            "torch.Size([4, 3, 7]) torch.Size([2, 4, 3]) torch.Size([2, 4, 3])\n",
            "torch.Size([4, 3, 3]) torch.Size([2, 4, 3]) torch.Size([2, 4, 3])\n"
          ],
          "name": "stdout"
        }
      ]
    }
  ]
}